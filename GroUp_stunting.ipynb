{
  "nbformat": 4,
  "nbformat_minor": 0,
  "metadata": {
    "colab": {
      "provenance": [],
      "include_colab_link": true
    },
    "kernelspec": {
      "name": "python3",
      "display_name": "Python 3"
    },
    "language_info": {
      "name": "python"
    }
  },
  "cells": [
    {
      "cell_type": "markdown",
      "metadata": {
        "id": "view-in-github",
        "colab_type": "text"
      },
      "source": [
        "<a href=\"https://colab.research.google.com/github/apipz123456/Aplikasi-Pengolahan-Citra-Berbasis-Dekstop/blob/main/GroUp_stunting.ipynb\" target=\"_parent\"><img src=\"https://colab.research.google.com/assets/colab-badge.svg\" alt=\"Open In Colab\"/></a>"
      ]
    },
    {
      "cell_type": "markdown",
      "source": [
        "Import Dataset dari github"
      ],
      "metadata": {
        "id": "4RNfYcxX9Co0"
      }
    },
    {
      "cell_type": "code",
      "source": [
        "!git clone https://github.com/DenisKai7/GroUp.git"
      ],
      "metadata": {
        "id": "rIvIgkdlwQx5",
        "outputId": "1f9d070c-a4b5-4a4a-bf95-8fa84b6c805b",
        "colab": {
          "base_uri": "https://localhost:8080/"
        }
      },
      "execution_count": 1,
      "outputs": [
        {
          "output_type": "stream",
          "name": "stdout",
          "text": [
            "Cloning into 'GroUp'...\n",
            "remote: Enumerating objects: 184, done.\u001b[K\n",
            "remote: Counting objects: 100% (16/16), done.\u001b[K\n",
            "remote: Compressing objects: 100% (16/16), done.\u001b[K\n",
            "remote: Total 184 (delta 6), reused 2 (delta 0), pack-reused 168 (from 1)\u001b[K\n",
            "Receiving objects: 100% (184/184), 1.14 MiB | 18.87 MiB/s, done.\n",
            "Resolving deltas: 100% (21/21), done.\n"
          ]
        }
      ]
    },
    {
      "cell_type": "code",
      "source": [
        "%cd GroUp\n",
        "!git checkout dataset"
      ],
      "metadata": {
        "id": "lEf65dKrx245",
        "outputId": "232538cf-55d0-4038-e3cb-1cddcaa9f5d0",
        "colab": {
          "base_uri": "https://localhost:8080/"
        }
      },
      "execution_count": 2,
      "outputs": [
        {
          "output_type": "stream",
          "name": "stdout",
          "text": [
            "/content/GroUp\n",
            "Branch 'dataset' set up to track remote branch 'dataset' from 'origin'.\n",
            "Switched to a new branch 'dataset'\n"
          ]
        }
      ]
    },
    {
      "cell_type": "code",
      "source": [
        "!pip install optuna"
      ],
      "metadata": {
        "id": "bIFso5Jg8S0I",
        "outputId": "22057930-87f8-482d-b84b-5f2850372dec",
        "colab": {
          "base_uri": "https://localhost:8080/"
        }
      },
      "execution_count": 3,
      "outputs": [
        {
          "output_type": "stream",
          "name": "stdout",
          "text": [
            "Collecting optuna\n",
            "  Downloading optuna-4.1.0-py3-none-any.whl.metadata (16 kB)\n",
            "Collecting alembic>=1.5.0 (from optuna)\n",
            "  Downloading alembic-1.14.0-py3-none-any.whl.metadata (7.4 kB)\n",
            "Collecting colorlog (from optuna)\n",
            "  Downloading colorlog-6.9.0-py3-none-any.whl.metadata (10 kB)\n",
            "Requirement already satisfied: numpy in /usr/local/lib/python3.10/dist-packages (from optuna) (1.26.4)\n",
            "Requirement already satisfied: packaging>=20.0 in /usr/local/lib/python3.10/dist-packages (from optuna) (24.2)\n",
            "Requirement already satisfied: sqlalchemy>=1.4.2 in /usr/local/lib/python3.10/dist-packages (from optuna) (2.0.36)\n",
            "Requirement already satisfied: tqdm in /usr/local/lib/python3.10/dist-packages (from optuna) (4.66.6)\n",
            "Requirement already satisfied: PyYAML in /usr/local/lib/python3.10/dist-packages (from optuna) (6.0.2)\n",
            "Collecting Mako (from alembic>=1.5.0->optuna)\n",
            "  Downloading Mako-1.3.6-py3-none-any.whl.metadata (2.9 kB)\n",
            "Requirement already satisfied: typing-extensions>=4 in /usr/local/lib/python3.10/dist-packages (from alembic>=1.5.0->optuna) (4.12.2)\n",
            "Requirement already satisfied: greenlet!=0.4.17 in /usr/local/lib/python3.10/dist-packages (from sqlalchemy>=1.4.2->optuna) (3.1.1)\n",
            "Requirement already satisfied: MarkupSafe>=0.9.2 in /usr/local/lib/python3.10/dist-packages (from Mako->alembic>=1.5.0->optuna) (3.0.2)\n",
            "Downloading optuna-4.1.0-py3-none-any.whl (364 kB)\n",
            "\u001b[2K   \u001b[90m━━━━━━━━━━━━━━━━━━━━━━━━━━━━━━━━━━━━━━━━\u001b[0m \u001b[32m364.4/364.4 kB\u001b[0m \u001b[31m9.8 MB/s\u001b[0m eta \u001b[36m0:00:00\u001b[0m\n",
            "\u001b[?25hDownloading alembic-1.14.0-py3-none-any.whl (233 kB)\n",
            "\u001b[2K   \u001b[90m━━━━━━━━━━━━━━━━━━━━━━━━━━━━━━━━━━━━━━━━\u001b[0m \u001b[32m233.5/233.5 kB\u001b[0m \u001b[31m15.6 MB/s\u001b[0m eta \u001b[36m0:00:00\u001b[0m\n",
            "\u001b[?25hDownloading colorlog-6.9.0-py3-none-any.whl (11 kB)\n",
            "Downloading Mako-1.3.6-py3-none-any.whl (78 kB)\n",
            "\u001b[2K   \u001b[90m━━━━━━━━━━━━━━━━━━━━━━━━━━━━━━━━━━━━━━━━\u001b[0m \u001b[32m78.6/78.6 kB\u001b[0m \u001b[31m5.5 MB/s\u001b[0m eta \u001b[36m0:00:00\u001b[0m\n",
            "\u001b[?25hInstalling collected packages: Mako, colorlog, alembic, optuna\n",
            "Successfully installed Mako-1.3.6 alembic-1.14.0 colorlog-6.9.0 optuna-4.1.0\n"
          ]
        }
      ]
    },
    {
      "cell_type": "markdown",
      "source": [
        "Import Library yang dibutuhkan"
      ],
      "metadata": {
        "id": "FT3hSyuGewKW"
      }
    },
    {
      "cell_type": "code",
      "source": [
        "import pandas as pd\n",
        "import numpy as np\n",
        "import tensorflow as tf\n",
        "from tensorflow import keras\n",
        "from sklearn.model_selection import train_test_split\n",
        "from sklearn.preprocessing import StandardScaler, LabelEncoder\n",
        "from sklearn.ensemble import RandomForestClassifier\n",
        "from sklearn.metrics import accuracy_score, classification_report, confusion_matrix\n",
        "from sklearn.neighbors import NearestNeighbors\n",
        "import matplotlib.pyplot as plt\n",
        "import seaborn as sns\n",
        "import optuna\n",
        "from tensorflow.keras.preprocessing import sequence\n",
        "from tensorflow.keras.models import Sequential\n",
        "from tensorflow.keras.layers import LSTM, Dense, Dropout"
      ],
      "metadata": {
        "id": "pG4nQXIRevwE"
      },
      "execution_count": 4,
      "outputs": []
    },
    {
      "cell_type": "markdown",
      "source": [
        "**Preprocessing**"
      ],
      "metadata": {
        "id": "4aqduzviON3f"
      }
    },
    {
      "cell_type": "markdown",
      "source": [
        "load dataset"
      ],
      "metadata": {
        "id": "YGLhyGZLOT9Y"
      }
    },
    {
      "cell_type": "code",
      "source": [
        "#Load Dataset\n",
        "data_path = '/content/GroUp/Stunting_Dataset.csv'\n",
        "nutrition_data_path = '/content/GroUp/nutrition.csv'\n",
        "data = pd.read_csv(data_path)\n",
        "nutrition_data = pd.read_csv(nutrition_data_path)\n",
        "\n",
        "#Preprocessing Data\n",
        "class DataPreprocessor:\n",
        "    def __init__(self, data):\n",
        "        self.data = data\n",
        "        self.scaler = StandardScaler()\n",
        "        self.label_encoder = LabelEncoder()\n",
        "\n",
        "    def preprocess(self):\n",
        "        # Handle missing values\n",
        "        self._handle_missing_values()\n",
        "        # Feature engineering\n",
        "        self._feature_engineering()\n",
        "        return self._prepare_model_data()\n",
        "\n",
        "    def _handle_missing_values(self):\n",
        "        numeric_columns = self.data.select_dtypes(include=[np.number]).columns\n",
        "        self.data[numeric_columns] = self.data[numeric_columns].fillna(\n",
        "            self.data[numeric_columns].median()\n",
        "        )\n",
        "\n",
        "    def _feature_engineering(self):\n",
        "        self.data['BMI'] = self.data['Body Weight'] / ((self.data['Body Length'] / 100) ** 2)\n",
        "        self.data['Gender_Encoded'] = self.label_encoder.fit_transform(self.data['Gender'])\n",
        "\n",
        "    def _prepare_model_data(self):\n",
        "        features = ['Age', 'Birth Weight', 'Birth Length', 'Body Weight',\n",
        "                    'Body Length', 'BMI', 'Gender_Encoded']\n",
        "        X = self.data[features]\n",
        "        y = self.label_encoder.fit_transform(self.data['Stunting'])\n",
        "\n",
        "        X_scaled = self.scaler.fit_transform(X)\n",
        "        return X_scaled, y\n",
        "\n",
        "preprocessor = DataPreprocessor(data)\n",
        "X, y = preprocessor.preprocess()"
      ],
      "metadata": {
        "id": "2qgDi8uU1RG5"
      },
      "execution_count": 5,
      "outputs": []
    },
    {
      "cell_type": "code",
      "source": [
        "class ModelTrainer:\n",
        "    def __init__(self):\n",
        "        self.models = {}\n",
        "\n",
        "    def train_random_forest(self, X, y):\n",
        "        def objective(trial):\n",
        "            params = {\n",
        "                'n_estimators': trial.suggest_int('n_estimators', 50, 300),\n",
        "                'max_depth': trial.suggest_int('max_depth', 3, 10),\n",
        "                'min_samples_split': trial.suggest_int('min_samples_split', 2, 10)\n",
        "            }\n",
        "\n",
        "            rf = RandomForestClassifier(**params)\n",
        "            rf.fit(X, y)\n",
        "\n",
        "            y_pred = rf.predict(X)\n",
        "            return accuracy_score(y, y_pred)\n",
        "\n",
        "        study = optuna.create_study(direction='maximize')\n",
        "        study.optimize(objective, n_trials=50)\n",
        "\n",
        "        best_rf = RandomForestClassifier(**study.best_params)\n",
        "        best_rf.fit(X, y)\n",
        "        return best_rf, study.best_params\n",
        "\n",
        "trainer = ModelTrainer()\n",
        "rf_model, rf_params = trainer.train_random_forest(X, y)"
      ],
      "metadata": {
        "id": "7Tkw_VnZ4CUV",
        "outputId": "a2c577ca-db9c-4890-c91d-c82f2465f148",
        "colab": {
          "base_uri": "https://localhost:8080/"
        }
      },
      "execution_count": 6,
      "outputs": [
        {
          "output_type": "stream",
          "name": "stderr",
          "text": [
            "[I 2024-11-22 14:03:45,918] A new study created in memory with name: no-name-78b7fcda-41a8-45b8-ae88-1731f13f866d\n",
            "[I 2024-11-22 14:03:50,651] Trial 0 finished with value: 0.8767 and parameters: {'n_estimators': 254, 'max_depth': 8, 'min_samples_split': 10}. Best is trial 0 with value: 0.8767.\n",
            "[I 2024-11-22 14:03:53,609] Trial 1 finished with value: 0.8609 and parameters: {'n_estimators': 299, 'max_depth': 5, 'min_samples_split': 5}. Best is trial 0 with value: 0.8767.\n",
            "[I 2024-11-22 14:03:55,932] Trial 2 finished with value: 0.8863 and parameters: {'n_estimators': 164, 'max_depth': 9, 'min_samples_split': 3}. Best is trial 2 with value: 0.8863.\n",
            "[I 2024-11-22 14:03:56,457] Trial 3 finished with value: 0.852 and parameters: {'n_estimators': 80, 'max_depth': 3, 'min_samples_split': 8}. Best is trial 2 with value: 0.8863.\n",
            "[I 2024-11-22 14:03:58,465] Trial 4 finished with value: 0.8838 and parameters: {'n_estimators': 151, 'max_depth': 9, 'min_samples_split': 6}. Best is trial 2 with value: 0.8863.\n",
            "[I 2024-11-22 14:04:02,857] Trial 5 finished with value: 0.8653 and parameters: {'n_estimators': 289, 'max_depth': 6, 'min_samples_split': 5}. Best is trial 2 with value: 0.8863.\n",
            "[I 2024-11-22 14:04:05,235] Trial 6 finished with value: 0.8557 and parameters: {'n_estimators': 131, 'max_depth': 4, 'min_samples_split': 7}. Best is trial 2 with value: 0.8863.\n",
            "[I 2024-11-22 14:04:09,605] Trial 7 finished with value: 0.8875 and parameters: {'n_estimators': 222, 'max_depth': 10, 'min_samples_split': 8}. Best is trial 7 with value: 0.8875.\n",
            "[I 2024-11-22 14:04:11,152] Trial 8 finished with value: 0.8529 and parameters: {'n_estimators': 178, 'max_depth': 3, 'min_samples_split': 9}. Best is trial 7 with value: 0.8875.\n",
            "[I 2024-11-22 14:04:13,249] Trial 9 finished with value: 0.8852 and parameters: {'n_estimators': 197, 'max_depth': 9, 'min_samples_split': 4}. Best is trial 7 with value: 0.8875.\n",
            "[I 2024-11-22 14:04:14,614] Trial 10 finished with value: 0.8713 and parameters: {'n_estimators': 228, 'max_depth': 7, 'min_samples_split': 10}. Best is trial 7 with value: 0.8875.\n",
            "[I 2024-11-22 14:04:15,448] Trial 11 finished with value: 0.8959 and parameters: {'n_estimators': 108, 'max_depth': 10, 'min_samples_split': 2}. Best is trial 11 with value: 0.8959.\n",
            "[I 2024-11-22 14:04:16,149] Trial 12 finished with value: 0.8958 and parameters: {'n_estimators': 62, 'max_depth': 10, 'min_samples_split': 2}. Best is trial 11 with value: 0.8959.\n",
            "[I 2024-11-22 14:04:16,874] Trial 13 finished with value: 0.8963 and parameters: {'n_estimators': 60, 'max_depth': 10, 'min_samples_split': 2}. Best is trial 13 with value: 0.8963.\n",
            "[I 2024-11-22 14:04:17,912] Trial 14 finished with value: 0.8723 and parameters: {'n_estimators': 101, 'max_depth': 7, 'min_samples_split': 2}. Best is trial 13 with value: 0.8963.\n",
            "[I 2024-11-22 14:04:19,418] Trial 15 finished with value: 0.8949 and parameters: {'n_estimators': 116, 'max_depth': 10, 'min_samples_split': 3}. Best is trial 13 with value: 0.8963.\n",
            "[I 2024-11-22 14:04:20,143] Trial 16 finished with value: 0.8785 and parameters: {'n_estimators': 64, 'max_depth': 8, 'min_samples_split': 3}. Best is trial 13 with value: 0.8963.\n",
            "[I 2024-11-22 14:04:21,173] Trial 17 finished with value: 0.8791 and parameters: {'n_estimators': 93, 'max_depth': 8, 'min_samples_split': 2}. Best is trial 13 with value: 0.8963.\n",
            "[I 2024-11-22 14:04:21,637] Trial 18 finished with value: 0.864 and parameters: {'n_estimators': 50, 'max_depth': 6, 'min_samples_split': 4}. Best is trial 13 with value: 0.8963.\n",
            "[I 2024-11-22 14:04:22,930] Trial 19 finished with value: 0.8932 and parameters: {'n_estimators': 131, 'max_depth': 10, 'min_samples_split': 4}. Best is trial 13 with value: 0.8963.\n",
            "[I 2024-11-22 14:04:23,561] Trial 20 finished with value: 0.8829 and parameters: {'n_estimators': 85, 'max_depth': 9, 'min_samples_split': 6}. Best is trial 13 with value: 0.8963.\n",
            "[I 2024-11-22 14:04:23,982] Trial 21 finished with value: 0.8962 and parameters: {'n_estimators': 51, 'max_depth': 10, 'min_samples_split': 2}. Best is trial 13 with value: 0.8963.\n",
            "[I 2024-11-22 14:04:24,390] Trial 22 finished with value: 0.8945 and parameters: {'n_estimators': 50, 'max_depth': 10, 'min_samples_split': 2}. Best is trial 13 with value: 0.8963.\n",
            "[I 2024-11-22 14:04:25,190] Trial 23 finished with value: 0.8863 and parameters: {'n_estimators': 110, 'max_depth': 9, 'min_samples_split': 3}. Best is trial 13 with value: 0.8963.\n",
            "[I 2024-11-22 14:04:25,705] Trial 24 finished with value: 0.8803 and parameters: {'n_estimators': 76, 'max_depth': 8, 'min_samples_split': 2}. Best is trial 13 with value: 0.8963.\n",
            "[I 2024-11-22 14:04:26,677] Trial 25 finished with value: 0.894 and parameters: {'n_estimators': 126, 'max_depth': 10, 'min_samples_split': 3}. Best is trial 13 with value: 0.8963.\n",
            "[I 2024-11-22 14:04:27,193] Trial 26 finished with value: 0.8844 and parameters: {'n_estimators': 68, 'max_depth': 9, 'min_samples_split': 4}. Best is trial 13 with value: 0.8963.\n",
            "[I 2024-11-22 14:04:28,278] Trial 27 finished with value: 0.8909 and parameters: {'n_estimators': 143, 'max_depth': 10, 'min_samples_split': 5}. Best is trial 13 with value: 0.8963.\n",
            "[I 2024-11-22 14:04:28,859] Trial 28 finished with value: 0.8725 and parameters: {'n_estimators': 95, 'max_depth': 7, 'min_samples_split': 2}. Best is trial 13 with value: 0.8963.\n",
            "[I 2024-11-22 14:04:29,576] Trial 29 finished with value: 0.8788 and parameters: {'n_estimators': 107, 'max_depth': 8, 'min_samples_split': 3}. Best is trial 13 with value: 0.8963.\n",
            "[I 2024-11-22 14:04:29,931] Trial 30 finished with value: 0.8782 and parameters: {'n_estimators': 50, 'max_depth': 8, 'min_samples_split': 4}. Best is trial 13 with value: 0.8963.\n",
            "[I 2024-11-22 14:04:30,464] Trial 31 finished with value: 0.8954 and parameters: {'n_estimators': 66, 'max_depth': 10, 'min_samples_split': 2}. Best is trial 13 with value: 0.8963.\n",
            "[I 2024-11-22 14:04:31,194] Trial 32 finished with value: 0.8966 and parameters: {'n_estimators': 67, 'max_depth': 10, 'min_samples_split': 2}. Best is trial 32 with value: 0.8966.\n",
            "[I 2024-11-22 14:04:32,135] Trial 33 finished with value: 0.8858 and parameters: {'n_estimators': 84, 'max_depth': 9, 'min_samples_split': 3}. Best is trial 32 with value: 0.8966.\n",
            "[I 2024-11-22 14:04:33,052] Trial 34 finished with value: 0.8963 and parameters: {'n_estimators': 75, 'max_depth': 10, 'min_samples_split': 2}. Best is trial 32 with value: 0.8966.\n",
            "[I 2024-11-22 14:04:33,889] Trial 35 finished with value: 0.8864 and parameters: {'n_estimators': 76, 'max_depth': 9, 'min_samples_split': 3}. Best is trial 32 with value: 0.8966.\n",
            "[I 2024-11-22 14:04:34,355] Trial 36 finished with value: 0.8604 and parameters: {'n_estimators': 89, 'max_depth': 5, 'min_samples_split': 5}. Best is trial 32 with value: 0.8966.\n",
            "[I 2024-11-22 14:04:34,843] Trial 37 finished with value: 0.8876 and parameters: {'n_estimators': 64, 'max_depth': 9, 'min_samples_split': 2}. Best is trial 32 with value: 0.8966.\n",
            "[I 2024-11-22 14:04:36,959] Trial 38 finished with value: 0.894 and parameters: {'n_estimators': 276, 'max_depth': 10, 'min_samples_split': 3}. Best is trial 32 with value: 0.8966.\n",
            "[I 2024-11-22 14:04:38,088] Trial 39 finished with value: 0.8817 and parameters: {'n_estimators': 158, 'max_depth': 9, 'min_samples_split': 7}. Best is trial 32 with value: 0.8966.\n",
            "[I 2024-11-22 14:04:38,995] Trial 40 finished with value: 0.8601 and parameters: {'n_estimators': 176, 'max_depth': 5, 'min_samples_split': 5}. Best is trial 32 with value: 0.8966.\n",
            "[I 2024-11-22 14:04:39,565] Trial 41 finished with value: 0.8957 and parameters: {'n_estimators': 74, 'max_depth': 10, 'min_samples_split': 2}. Best is trial 32 with value: 0.8966.\n",
            "[I 2024-11-22 14:04:40,034] Trial 42 finished with value: 0.8966 and parameters: {'n_estimators': 55, 'max_depth': 10, 'min_samples_split': 2}. Best is trial 32 with value: 0.8966.\n",
            "[I 2024-11-22 14:04:40,503] Trial 43 finished with value: 0.8954 and parameters: {'n_estimators': 58, 'max_depth': 10, 'min_samples_split': 2}. Best is trial 32 with value: 0.8966.\n",
            "[I 2024-11-22 14:04:41,110] Trial 44 finished with value: 0.8852 and parameters: {'n_estimators': 81, 'max_depth': 9, 'min_samples_split': 3}. Best is trial 32 with value: 0.8966.\n",
            "[I 2024-11-22 14:04:42,664] Trial 45 finished with value: 0.8959 and parameters: {'n_estimators': 199, 'max_depth': 10, 'min_samples_split': 2}. Best is trial 32 with value: 0.8966.\n",
            "[I 2024-11-22 14:04:42,962] Trial 46 finished with value: 0.8564 and parameters: {'n_estimators': 56, 'max_depth': 4, 'min_samples_split': 4}. Best is trial 32 with value: 0.8966.\n",
            "[I 2024-11-22 14:04:43,674] Trial 47 finished with value: 0.887 and parameters: {'n_estimators': 100, 'max_depth': 9, 'min_samples_split': 3}. Best is trial 32 with value: 0.8966.\n",
            "[I 2024-11-22 14:04:44,359] Trial 48 finished with value: 0.8872 and parameters: {'n_estimators': 69, 'max_depth': 10, 'min_samples_split': 9}. Best is trial 32 with value: 0.8966.\n",
            "[I 2024-11-22 14:04:45,773] Trial 49 finished with value: 0.8964 and parameters: {'n_estimators': 121, 'max_depth': 10, 'min_samples_split': 2}. Best is trial 32 with value: 0.8966.\n"
          ]
        }
      ]
    },
    {
      "cell_type": "code",
      "source": [
        "def create_lstm_model(input_shape):\n",
        "    model = Sequential([\n",
        "        LSTM(64, input_shape=input_shape, return_sequences=True),\n",
        "        Dropout(0.3),\n",
        "        LSTM(32, return_sequences=False),\n",
        "        Dropout(0.3),\n",
        "        Dense(1)\n",
        "    ])\n",
        "    model.compile(loss='mean_squared_error',\n",
        "                  optimizer='adam',\n",
        "                  metrics=['mae', 'mse'])\n",
        "    return model\n",
        "\n",
        "X_lstm = np.expand_dims(X, axis=2)\n",
        "y_lstm = y.astype(float)\n",
        "\n",
        "X_train, X_test, y_train, y_test = train_test_split(X_lstm, y_lstm, test_size=0.2)\n",
        "\n",
        "lstm_model = create_lstm_model((X_train.shape[1], 1))\n",
        "lstm_history = lstm_model.fit(X_train, y_train, epochs=100, validation_data=(X_test, y_test))\n",
        "\n",
        "lstm_model.summary()\n",
        "\n",
        "print(\"Training Loss:\", lstm_history.history['loss'][-1])\n",
        "print(\"Validation Loss:\", lstm_history.history['val_loss'][-1])\n",
        "print(\"Training Mean Absolute Error:\", lstm_history.history['mae'][-1])\n",
        "print(\"Validation Mean Absolute Error:\", lstm_history.history['val_mae'][-1])"
      ],
      "metadata": {
        "id": "pLVVkURyI3BO",
        "outputId": "39e512d8-4174-4a5e-e64c-04a37c371cb0",
        "colab": {
          "base_uri": "https://localhost:8080/",
          "height": 1000
        }
      },
      "execution_count": 10,
      "outputs": [
        {
          "output_type": "stream",
          "name": "stdout",
          "text": [
            "Epoch 1/100\n"
          ]
        },
        {
          "output_type": "stream",
          "name": "stderr",
          "text": [
            "/usr/local/lib/python3.10/dist-packages/keras/src/layers/rnn/rnn.py:204: UserWarning: Do not pass an `input_shape`/`input_dim` argument to a layer. When using Sequential models, prefer using an `Input(shape)` object as the first layer in the model instead.\n",
            "  super().__init__(**kwargs)\n"
          ]
        },
        {
          "output_type": "stream",
          "name": "stdout",
          "text": [
            "\u001b[1m250/250\u001b[0m \u001b[32m━━━━━━━━━━━━━━━━━━━━\u001b[0m\u001b[37m\u001b[0m \u001b[1m8s\u001b[0m 13ms/step - loss: 0.2980 - mae: 0.4464 - mse: 0.2980 - val_loss: 0.1588 - val_mae: 0.3618 - val_mse: 0.1588\n",
            "Epoch 2/100\n",
            "\u001b[1m250/250\u001b[0m \u001b[32m━━━━━━━━━━━━━━━━━━━━\u001b[0m\u001b[37m\u001b[0m \u001b[1m4s\u001b[0m 9ms/step - loss: 0.1655 - mae: 0.3271 - mse: 0.1655 - val_loss: 0.1408 - val_mae: 0.2956 - val_mse: 0.1408\n",
            "Epoch 3/100\n",
            "\u001b[1m250/250\u001b[0m \u001b[32m━━━━━━━━━━━━━━━━━━━━\u001b[0m\u001b[37m\u001b[0m \u001b[1m3s\u001b[0m 9ms/step - loss: 0.1524 - mae: 0.3051 - mse: 0.1524 - val_loss: 0.1323 - val_mae: 0.2472 - val_mse: 0.1323\n",
            "Epoch 4/100\n",
            "\u001b[1m250/250\u001b[0m \u001b[32m━━━━━━━━━━━━━━━━━━━━\u001b[0m\u001b[37m\u001b[0m \u001b[1m3s\u001b[0m 12ms/step - loss: 0.1545 - mae: 0.3046 - mse: 0.1545 - val_loss: 0.1226 - val_mae: 0.2361 - val_mse: 0.1226\n",
            "Epoch 5/100\n",
            "\u001b[1m250/250\u001b[0m \u001b[32m━━━━━━━━━━━━━━━━━━━━\u001b[0m\u001b[37m\u001b[0m \u001b[1m3s\u001b[0m 12ms/step - loss: 0.1369 - mae: 0.2727 - mse: 0.1369 - val_loss: 0.1152 - val_mae: 0.2418 - val_mse: 0.1152\n",
            "Epoch 6/100\n",
            "\u001b[1m250/250\u001b[0m \u001b[32m━━━━━━━━━━━━━━━━━━━━\u001b[0m\u001b[37m\u001b[0m \u001b[1m4s\u001b[0m 9ms/step - loss: 0.1243 - mae: 0.2568 - mse: 0.1243 - val_loss: 0.1160 - val_mae: 0.2521 - val_mse: 0.1160\n",
            "Epoch 7/100\n",
            "\u001b[1m250/250\u001b[0m \u001b[32m━━━━━━━━━━━━━━━━━━━━\u001b[0m\u001b[37m\u001b[0m \u001b[1m3s\u001b[0m 10ms/step - loss: 0.1304 - mae: 0.2690 - mse: 0.1304 - val_loss: 0.1112 - val_mae: 0.2243 - val_mse: 0.1112\n",
            "Epoch 8/100\n",
            "\u001b[1m250/250\u001b[0m \u001b[32m━━━━━━━━━━━━━━━━━━━━\u001b[0m\u001b[37m\u001b[0m \u001b[1m3s\u001b[0m 12ms/step - loss: 0.1248 - mae: 0.2575 - mse: 0.1248 - val_loss: 0.1121 - val_mae: 0.2580 - val_mse: 0.1121\n",
            "Epoch 9/100\n",
            "\u001b[1m250/250\u001b[0m \u001b[32m━━━━━━━━━━━━━━━━━━━━\u001b[0m\u001b[37m\u001b[0m \u001b[1m3s\u001b[0m 13ms/step - loss: 0.1255 - mae: 0.2589 - mse: 0.1255 - val_loss: 0.1081 - val_mae: 0.2257 - val_mse: 0.1081\n",
            "Epoch 10/100\n",
            "\u001b[1m250/250\u001b[0m \u001b[32m━━━━━━━━━━━━━━━━━━━━\u001b[0m\u001b[37m\u001b[0m \u001b[1m2s\u001b[0m 10ms/step - loss: 0.1219 - mae: 0.2535 - mse: 0.1219 - val_loss: 0.1089 - val_mae: 0.2386 - val_mse: 0.1089\n",
            "Epoch 11/100\n",
            "\u001b[1m250/250\u001b[0m \u001b[32m━━━━━━━━━━━━━━━━━━━━\u001b[0m\u001b[37m\u001b[0m \u001b[1m2s\u001b[0m 9ms/step - loss: 0.1208 - mae: 0.2503 - mse: 0.1208 - val_loss: 0.1087 - val_mae: 0.2384 - val_mse: 0.1087\n",
            "Epoch 12/100\n",
            "\u001b[1m250/250\u001b[0m \u001b[32m━━━━━━━━━━━━━━━━━━━━\u001b[0m\u001b[37m\u001b[0m \u001b[1m2s\u001b[0m 10ms/step - loss: 0.1226 - mae: 0.2552 - mse: 0.1226 - val_loss: 0.1068 - val_mae: 0.2237 - val_mse: 0.1068\n",
            "Epoch 13/100\n",
            "\u001b[1m250/250\u001b[0m \u001b[32m━━━━━━━━━━━━━━━━━━━━\u001b[0m\u001b[37m\u001b[0m \u001b[1m3s\u001b[0m 13ms/step - loss: 0.1191 - mae: 0.2441 - mse: 0.1191 - val_loss: 0.1101 - val_mae: 0.2034 - val_mse: 0.1101\n",
            "Epoch 14/100\n",
            "\u001b[1m250/250\u001b[0m \u001b[32m━━━━━━━━━━━━━━━━━━━━\u001b[0m\u001b[37m\u001b[0m \u001b[1m3s\u001b[0m 13ms/step - loss: 0.1203 - mae: 0.2451 - mse: 0.1203 - val_loss: 0.1062 - val_mae: 0.2253 - val_mse: 0.1062\n",
            "Epoch 15/100\n",
            "\u001b[1m250/250\u001b[0m \u001b[32m━━━━━━━━━━━━━━━━━━━━\u001b[0m\u001b[37m\u001b[0m \u001b[1m4s\u001b[0m 9ms/step - loss: 0.1143 - mae: 0.2364 - mse: 0.1143 - val_loss: 0.1051 - val_mae: 0.2031 - val_mse: 0.1051\n",
            "Epoch 16/100\n",
            "\u001b[1m250/250\u001b[0m \u001b[32m━━━━━━━━━━━━━━━━━━━━\u001b[0m\u001b[37m\u001b[0m \u001b[1m3s\u001b[0m 10ms/step - loss: 0.1173 - mae: 0.2374 - mse: 0.1173 - val_loss: 0.1064 - val_mae: 0.2193 - val_mse: 0.1064\n",
            "Epoch 17/100\n",
            "\u001b[1m250/250\u001b[0m \u001b[32m━━━━━━━━━━━━━━━━━━━━\u001b[0m\u001b[37m\u001b[0m \u001b[1m3s\u001b[0m 11ms/step - loss: 0.1138 - mae: 0.2339 - mse: 0.1138 - val_loss: 0.1073 - val_mae: 0.2331 - val_mse: 0.1073\n",
            "Epoch 18/100\n",
            "\u001b[1m250/250\u001b[0m \u001b[32m━━━━━━━━━━━━━━━━━━━━\u001b[0m\u001b[37m\u001b[0m \u001b[1m3s\u001b[0m 14ms/step - loss: 0.1133 - mae: 0.2334 - mse: 0.1133 - val_loss: 0.1049 - val_mae: 0.2087 - val_mse: 0.1049\n",
            "Epoch 19/100\n",
            "\u001b[1m250/250\u001b[0m \u001b[32m━━━━━━━━━━━━━━━━━━━━\u001b[0m\u001b[37m\u001b[0m \u001b[1m4s\u001b[0m 9ms/step - loss: 0.1184 - mae: 0.2408 - mse: 0.1184 - val_loss: 0.1059 - val_mae: 0.2295 - val_mse: 0.1059\n",
            "Epoch 20/100\n",
            "\u001b[1m250/250\u001b[0m \u001b[32m━━━━━━━━━━━━━━━━━━━━\u001b[0m\u001b[37m\u001b[0m \u001b[1m3s\u001b[0m 10ms/step - loss: 0.1236 - mae: 0.2499 - mse: 0.1236 - val_loss: 0.1059 - val_mae: 0.1988 - val_mse: 0.1059\n",
            "Epoch 21/100\n",
            "\u001b[1m250/250\u001b[0m \u001b[32m━━━━━━━━━━━━━━━━━━━━\u001b[0m\u001b[37m\u001b[0m \u001b[1m2s\u001b[0m 10ms/step - loss: 0.1132 - mae: 0.2304 - mse: 0.1132 - val_loss: 0.1052 - val_mae: 0.2116 - val_mse: 0.1052\n",
            "Epoch 22/100\n",
            "\u001b[1m250/250\u001b[0m \u001b[32m━━━━━━━━━━━━━━━━━━━━\u001b[0m\u001b[37m\u001b[0m \u001b[1m4s\u001b[0m 16ms/step - loss: 0.1154 - mae: 0.2337 - mse: 0.1154 - val_loss: 0.1062 - val_mae: 0.1978 - val_mse: 0.1062\n",
            "Epoch 23/100\n",
            "\u001b[1m250/250\u001b[0m \u001b[32m━━━━━━━━━━━━━━━━━━━━\u001b[0m\u001b[37m\u001b[0m \u001b[1m3s\u001b[0m 9ms/step - loss: 0.1139 - mae: 0.2294 - mse: 0.1139 - val_loss: 0.1048 - val_mae: 0.2135 - val_mse: 0.1048\n",
            "Epoch 24/100\n",
            "\u001b[1m250/250\u001b[0m \u001b[32m━━━━━━━━━━━━━━━━━━━━\u001b[0m\u001b[37m\u001b[0m \u001b[1m3s\u001b[0m 10ms/step - loss: 0.1156 - mae: 0.2342 - mse: 0.1156 - val_loss: 0.1067 - val_mae: 0.2436 - val_mse: 0.1067\n",
            "Epoch 25/100\n",
            "\u001b[1m250/250\u001b[0m \u001b[32m━━━━━━━━━━━━━━━━━━━━\u001b[0m\u001b[37m\u001b[0m \u001b[1m2s\u001b[0m 9ms/step - loss: 0.1145 - mae: 0.2365 - mse: 0.1145 - val_loss: 0.1072 - val_mae: 0.2403 - val_mse: 0.1072\n",
            "Epoch 26/100\n",
            "\u001b[1m250/250\u001b[0m \u001b[32m━━━━━━━━━━━━━━━━━━━━\u001b[0m\u001b[37m\u001b[0m \u001b[1m3s\u001b[0m 11ms/step - loss: 0.1158 - mae: 0.2396 - mse: 0.1158 - val_loss: 0.1046 - val_mae: 0.2041 - val_mse: 0.1046\n",
            "Epoch 27/100\n",
            "\u001b[1m250/250\u001b[0m \u001b[32m━━━━━━━━━━━━━━━━━━━━\u001b[0m\u001b[37m\u001b[0m \u001b[1m4s\u001b[0m 15ms/step - loss: 0.1154 - mae: 0.2342 - mse: 0.1154 - val_loss: 0.1069 - val_mae: 0.2318 - val_mse: 0.1069\n",
            "Epoch 28/100\n",
            "\u001b[1m250/250\u001b[0m \u001b[32m━━━━━━━━━━━━━━━━━━━━\u001b[0m\u001b[37m\u001b[0m \u001b[1m4s\u001b[0m 11ms/step - loss: 0.1187 - mae: 0.2407 - mse: 0.1187 - val_loss: 0.1040 - val_mae: 0.2149 - val_mse: 0.1040\n",
            "Epoch 29/100\n",
            "\u001b[1m250/250\u001b[0m \u001b[32m━━━━━━━━━━━━━━━━━━━━\u001b[0m\u001b[37m\u001b[0m \u001b[1m5s\u001b[0m 9ms/step - loss: 0.1160 - mae: 0.2343 - mse: 0.1160 - val_loss: 0.1048 - val_mae: 0.2056 - val_mse: 0.1048\n",
            "Epoch 30/100\n",
            "\u001b[1m250/250\u001b[0m \u001b[32m━━━━━━━━━━━━━━━━━━━━\u001b[0m\u001b[37m\u001b[0m \u001b[1m3s\u001b[0m 13ms/step - loss: 0.1128 - mae: 0.2260 - mse: 0.1128 - val_loss: 0.1074 - val_mae: 0.2454 - val_mse: 0.1074\n",
            "Epoch 31/100\n",
            "\u001b[1m250/250\u001b[0m \u001b[32m━━━━━━━━━━━━━━━━━━━━\u001b[0m\u001b[37m\u001b[0m \u001b[1m4s\u001b[0m 9ms/step - loss: 0.1150 - mae: 0.2362 - mse: 0.1150 - val_loss: 0.1045 - val_mae: 0.2213 - val_mse: 0.1045\n",
            "Epoch 32/100\n",
            "\u001b[1m250/250\u001b[0m \u001b[32m━━━━━━━━━━━━━━━━━━━━\u001b[0m\u001b[37m\u001b[0m \u001b[1m2s\u001b[0m 9ms/step - loss: 0.1110 - mae: 0.2235 - mse: 0.1110 - val_loss: 0.1060 - val_mae: 0.2188 - val_mse: 0.1060\n",
            "Epoch 33/100\n",
            "\u001b[1m250/250\u001b[0m \u001b[32m━━━━━━━━━━━━━━━━━━━━\u001b[0m\u001b[37m\u001b[0m \u001b[1m2s\u001b[0m 9ms/step - loss: 0.1199 - mae: 0.2406 - mse: 0.1199 - val_loss: 0.1050 - val_mae: 0.2199 - val_mse: 0.1050\n",
            "Epoch 34/100\n",
            "\u001b[1m250/250\u001b[0m \u001b[32m━━━━━━━━━━━━━━━━━━━━\u001b[0m\u001b[37m\u001b[0m \u001b[1m3s\u001b[0m 10ms/step - loss: 0.1124 - mae: 0.2305 - mse: 0.1124 - val_loss: 0.1070 - val_mae: 0.2335 - val_mse: 0.1070\n",
            "Epoch 35/100\n",
            "\u001b[1m250/250\u001b[0m \u001b[32m━━━━━━━━━━━━━━━━━━━━\u001b[0m\u001b[37m\u001b[0m \u001b[1m5s\u001b[0m 10ms/step - loss: 0.1131 - mae: 0.2308 - mse: 0.1131 - val_loss: 0.1080 - val_mae: 0.2039 - val_mse: 0.1080\n",
            "Epoch 36/100\n",
            "\u001b[1m250/250\u001b[0m \u001b[32m━━━━━━━━━━━━━━━━━━━━\u001b[0m\u001b[37m\u001b[0m \u001b[1m3s\u001b[0m 10ms/step - loss: 0.1113 - mae: 0.2260 - mse: 0.1113 - val_loss: 0.1046 - val_mae: 0.2240 - val_mse: 0.1046\n",
            "Epoch 37/100\n",
            "\u001b[1m250/250\u001b[0m \u001b[32m━━━━━━━━━━━━━━━━━━━━\u001b[0m\u001b[37m\u001b[0m \u001b[1m3s\u001b[0m 10ms/step - loss: 0.1122 - mae: 0.2290 - mse: 0.1122 - val_loss: 0.1050 - val_mae: 0.2209 - val_mse: 0.1050\n",
            "Epoch 38/100\n",
            "\u001b[1m250/250\u001b[0m \u001b[32m━━━━━━━━━━━━━━━━━━━━\u001b[0m\u001b[37m\u001b[0m \u001b[1m3s\u001b[0m 13ms/step - loss: 0.1089 - mae: 0.2213 - mse: 0.1089 - val_loss: 0.1057 - val_mae: 0.2229 - val_mse: 0.1057\n",
            "Epoch 39/100\n",
            "\u001b[1m250/250\u001b[0m \u001b[32m━━━━━━━━━━━━━━━━━━━━\u001b[0m\u001b[37m\u001b[0m \u001b[1m3s\u001b[0m 12ms/step - loss: 0.1130 - mae: 0.2287 - mse: 0.1130 - val_loss: 0.1047 - val_mae: 0.2158 - val_mse: 0.1047\n",
            "Epoch 40/100\n",
            "\u001b[1m250/250\u001b[0m \u001b[32m━━━━━━━━━━━━━━━━━━━━\u001b[0m\u001b[37m\u001b[0m \u001b[1m4s\u001b[0m 9ms/step - loss: 0.1141 - mae: 0.2302 - mse: 0.1141 - val_loss: 0.1041 - val_mae: 0.2057 - val_mse: 0.1041\n",
            "Epoch 41/100\n",
            "\u001b[1m250/250\u001b[0m \u001b[32m━━━━━━━━━━━━━━━━━━━━\u001b[0m\u001b[37m\u001b[0m \u001b[1m3s\u001b[0m 10ms/step - loss: 0.1189 - mae: 0.2365 - mse: 0.1189 - val_loss: 0.1047 - val_mae: 0.2174 - val_mse: 0.1047\n",
            "Epoch 42/100\n",
            "\u001b[1m250/250\u001b[0m \u001b[32m━━━━━━━━━━━━━━━━━━━━\u001b[0m\u001b[37m\u001b[0m \u001b[1m3s\u001b[0m 10ms/step - loss: 0.1125 - mae: 0.2262 - mse: 0.1125 - val_loss: 0.1045 - val_mae: 0.2184 - val_mse: 0.1045\n",
            "Epoch 43/100\n",
            "\u001b[1m250/250\u001b[0m \u001b[32m━━━━━━━━━━━━━━━━━━━━\u001b[0m\u001b[37m\u001b[0m \u001b[1m4s\u001b[0m 15ms/step - loss: 0.1136 - mae: 0.2290 - mse: 0.1136 - val_loss: 0.1044 - val_mae: 0.2154 - val_mse: 0.1044\n",
            "Epoch 44/100\n",
            "\u001b[1m250/250\u001b[0m \u001b[32m━━━━━━━━━━━━━━━━━━━━\u001b[0m\u001b[37m\u001b[0m \u001b[1m4s\u001b[0m 11ms/step - loss: 0.1168 - mae: 0.2344 - mse: 0.1168 - val_loss: 0.1046 - val_mae: 0.2175 - val_mse: 0.1046\n",
            "Epoch 45/100\n",
            "\u001b[1m250/250\u001b[0m \u001b[32m━━━━━━━━━━━━━━━━━━━━\u001b[0m\u001b[37m\u001b[0m \u001b[1m3s\u001b[0m 10ms/step - loss: 0.1133 - mae: 0.2288 - mse: 0.1133 - val_loss: 0.1051 - val_mae: 0.2074 - val_mse: 0.1051\n",
            "Epoch 46/100\n",
            "\u001b[1m250/250\u001b[0m \u001b[32m━━━━━━━━━━━━━━━━━━━━\u001b[0m\u001b[37m\u001b[0m \u001b[1m2s\u001b[0m 10ms/step - loss: 0.1110 - mae: 0.2216 - mse: 0.1110 - val_loss: 0.1053 - val_mae: 0.2231 - val_mse: 0.1053\n",
            "Epoch 47/100\n",
            "\u001b[1m250/250\u001b[0m \u001b[32m━━━━━━━━━━━━━━━━━━━━\u001b[0m\u001b[37m\u001b[0m \u001b[1m4s\u001b[0m 14ms/step - loss: 0.1133 - mae: 0.2304 - mse: 0.1133 - val_loss: 0.1040 - val_mae: 0.2065 - val_mse: 0.1040\n",
            "Epoch 48/100\n",
            "\u001b[1m250/250\u001b[0m \u001b[32m━━━━━━━━━━━━━━━━━━━━\u001b[0m\u001b[37m\u001b[0m \u001b[1m3s\u001b[0m 11ms/step - loss: 0.1123 - mae: 0.2258 - mse: 0.1123 - val_loss: 0.1056 - val_mae: 0.2177 - val_mse: 0.1056\n",
            "Epoch 49/100\n",
            "\u001b[1m250/250\u001b[0m \u001b[32m━━━━━━━━━━━━━━━━━━━━\u001b[0m\u001b[37m\u001b[0m \u001b[1m2s\u001b[0m 10ms/step - loss: 0.1106 - mae: 0.2225 - mse: 0.1106 - val_loss: 0.1051 - val_mae: 0.2339 - val_mse: 0.1051\n",
            "Epoch 50/100\n",
            "\u001b[1m250/250\u001b[0m \u001b[32m━━━━━━━━━━━━━━━━━━━━\u001b[0m\u001b[37m\u001b[0m \u001b[1m3s\u001b[0m 10ms/step - loss: 0.1073 - mae: 0.2209 - mse: 0.1073 - val_loss: 0.1050 - val_mae: 0.2282 - val_mse: 0.1050\n",
            "Epoch 51/100\n",
            "\u001b[1m250/250\u001b[0m \u001b[32m━━━━━━━━━━━━━━━━━━━━\u001b[0m\u001b[37m\u001b[0m \u001b[1m3s\u001b[0m 11ms/step - loss: 0.1108 - mae: 0.2263 - mse: 0.1108 - val_loss: 0.1057 - val_mae: 0.2034 - val_mse: 0.1057\n",
            "Epoch 52/100\n",
            "\u001b[1m250/250\u001b[0m \u001b[32m━━━━━━━━━━━━━━━━━━━━\u001b[0m\u001b[37m\u001b[0m \u001b[1m5s\u001b[0m 10ms/step - loss: 0.1147 - mae: 0.2298 - mse: 0.1147 - val_loss: 0.1045 - val_mae: 0.2053 - val_mse: 0.1045\n",
            "Epoch 53/100\n",
            "\u001b[1m250/250\u001b[0m \u001b[32m━━━━━━━━━━━━━━━━━━━━\u001b[0m\u001b[37m\u001b[0m \u001b[1m2s\u001b[0m 10ms/step - loss: 0.1147 - mae: 0.2292 - mse: 0.1147 - val_loss: 0.1041 - val_mae: 0.2072 - val_mse: 0.1041\n",
            "Epoch 54/100\n",
            "\u001b[1m250/250\u001b[0m \u001b[32m━━━━━━━━━━━━━━━━━━━━\u001b[0m\u001b[37m\u001b[0m \u001b[1m2s\u001b[0m 9ms/step - loss: 0.1120 - mae: 0.2248 - mse: 0.1120 - val_loss: 0.1048 - val_mae: 0.2263 - val_mse: 0.1048\n",
            "Epoch 55/100\n",
            "\u001b[1m250/250\u001b[0m \u001b[32m━━━━━━━━━━━━━━━━━━━━\u001b[0m\u001b[37m\u001b[0m \u001b[1m3s\u001b[0m 10ms/step - loss: 0.1067 - mae: 0.2183 - mse: 0.1067 - val_loss: 0.1038 - val_mae: 0.2103 - val_mse: 0.1038\n",
            "Epoch 56/100\n",
            "\u001b[1m250/250\u001b[0m \u001b[32m━━━━━━━━━━━━━━━━━━━━\u001b[0m\u001b[37m\u001b[0m \u001b[1m5s\u001b[0m 19ms/step - loss: 0.1125 - mae: 0.2252 - mse: 0.1125 - val_loss: 0.1057 - val_mae: 0.2113 - val_mse: 0.1057\n",
            "Epoch 57/100\n",
            "\u001b[1m250/250\u001b[0m \u001b[32m━━━━━━━━━━━━━━━━━━━━\u001b[0m\u001b[37m\u001b[0m \u001b[1m2s\u001b[0m 10ms/step - loss: 0.1135 - mae: 0.2269 - mse: 0.1135 - val_loss: 0.1062 - val_mae: 0.2123 - val_mse: 0.1062\n",
            "Epoch 58/100\n",
            "\u001b[1m250/250\u001b[0m \u001b[32m━━━━━━━━━━━━━━━━━━━━\u001b[0m\u001b[37m\u001b[0m \u001b[1m2s\u001b[0m 9ms/step - loss: 0.1104 - mae: 0.2239 - mse: 0.1104 - val_loss: 0.1042 - val_mae: 0.2117 - val_mse: 0.1042\n",
            "Epoch 59/100\n",
            "\u001b[1m250/250\u001b[0m \u001b[32m━━━━━━━━━━━━━━━━━━━━\u001b[0m\u001b[37m\u001b[0m \u001b[1m3s\u001b[0m 10ms/step - loss: 0.1099 - mae: 0.2218 - mse: 0.1099 - val_loss: 0.1037 - val_mae: 0.2099 - val_mse: 0.1037\n",
            "Epoch 60/100\n",
            "\u001b[1m250/250\u001b[0m \u001b[32m━━━━━━━━━━━━━━━━━━━━\u001b[0m\u001b[37m\u001b[0m \u001b[1m3s\u001b[0m 12ms/step - loss: 0.1146 - mae: 0.2299 - mse: 0.1146 - val_loss: 0.1053 - val_mae: 0.2181 - val_mse: 0.1053\n",
            "Epoch 61/100\n",
            "\u001b[1m250/250\u001b[0m \u001b[32m━━━━━━━━━━━━━━━━━━━━\u001b[0m\u001b[37m\u001b[0m \u001b[1m4s\u001b[0m 9ms/step - loss: 0.1130 - mae: 0.2260 - mse: 0.1130 - val_loss: 0.1051 - val_mae: 0.1961 - val_mse: 0.1051\n",
            "Epoch 62/100\n",
            "\u001b[1m250/250\u001b[0m \u001b[32m━━━━━━━━━━━━━━━━━━━━\u001b[0m\u001b[37m\u001b[0m \u001b[1m3s\u001b[0m 9ms/step - loss: 0.1131 - mae: 0.2251 - mse: 0.1131 - val_loss: 0.1059 - val_mae: 0.2160 - val_mse: 0.1059\n",
            "Epoch 63/100\n",
            "\u001b[1m250/250\u001b[0m \u001b[32m━━━━━━━━━━━━━━━━━━━━\u001b[0m\u001b[37m\u001b[0m \u001b[1m3s\u001b[0m 9ms/step - loss: 0.1110 - mae: 0.2248 - mse: 0.1110 - val_loss: 0.1050 - val_mae: 0.2056 - val_mse: 0.1050\n",
            "Epoch 64/100\n",
            "\u001b[1m250/250\u001b[0m \u001b[32m━━━━━━━━━━━━━━━━━━━━\u001b[0m\u001b[37m\u001b[0m \u001b[1m3s\u001b[0m 11ms/step - loss: 0.1101 - mae: 0.2210 - mse: 0.1101 - val_loss: 0.1045 - val_mae: 0.2108 - val_mse: 0.1045\n",
            "Epoch 65/100\n",
            "\u001b[1m250/250\u001b[0m \u001b[32m━━━━━━━━━━━━━━━━━━━━\u001b[0m\u001b[37m\u001b[0m \u001b[1m5s\u001b[0m 9ms/step - loss: 0.1130 - mae: 0.2273 - mse: 0.1130 - val_loss: 0.1037 - val_mae: 0.2010 - val_mse: 0.1037\n",
            "Epoch 66/100\n",
            "\u001b[1m250/250\u001b[0m \u001b[32m━━━━━━━━━━━━━━━━━━━━\u001b[0m\u001b[37m\u001b[0m \u001b[1m3s\u001b[0m 10ms/step - loss: 0.1144 - mae: 0.2282 - mse: 0.1144 - val_loss: 0.1050 - val_mae: 0.2112 - val_mse: 0.1050\n",
            "Epoch 67/100\n",
            "\u001b[1m250/250\u001b[0m \u001b[32m━━━━━━━━━━━━━━━━━━━━\u001b[0m\u001b[37m\u001b[0m \u001b[1m2s\u001b[0m 9ms/step - loss: 0.1087 - mae: 0.2193 - mse: 0.1087 - val_loss: 0.1043 - val_mae: 0.2142 - val_mse: 0.1043\n",
            "Epoch 68/100\n",
            "\u001b[1m250/250\u001b[0m \u001b[32m━━━━━━━━━━━━━━━━━━━━\u001b[0m\u001b[37m\u001b[0m \u001b[1m3s\u001b[0m 12ms/step - loss: 0.1143 - mae: 0.2292 - mse: 0.1143 - val_loss: 0.1047 - val_mae: 0.2220 - val_mse: 0.1047\n",
            "Epoch 69/100\n",
            "\u001b[1m250/250\u001b[0m \u001b[32m━━━━━━━━━━━━━━━━━━━━\u001b[0m\u001b[37m\u001b[0m \u001b[1m4s\u001b[0m 9ms/step - loss: 0.1095 - mae: 0.2231 - mse: 0.1095 - val_loss: 0.1037 - val_mae: 0.2088 - val_mse: 0.1037\n",
            "Epoch 70/100\n",
            "\u001b[1m250/250\u001b[0m \u001b[32m━━━━━━━━━━━━━━━━━━━━\u001b[0m\u001b[37m\u001b[0m \u001b[1m3s\u001b[0m 9ms/step - loss: 0.1108 - mae: 0.2234 - mse: 0.1108 - val_loss: 0.1037 - val_mae: 0.2007 - val_mse: 0.1037\n",
            "Epoch 71/100\n",
            "\u001b[1m250/250\u001b[0m \u001b[32m━━━━━━━━━━━━━━━━━━━━\u001b[0m\u001b[37m\u001b[0m \u001b[1m2s\u001b[0m 9ms/step - loss: 0.1090 - mae: 0.2191 - mse: 0.1090 - val_loss: 0.1048 - val_mae: 0.2190 - val_mse: 0.1048\n",
            "Epoch 72/100\n",
            "\u001b[1m250/250\u001b[0m \u001b[32m━━━━━━━━━━━━━━━━━━━━\u001b[0m\u001b[37m\u001b[0m \u001b[1m5s\u001b[0m 19ms/step - loss: 0.1076 - mae: 0.2178 - mse: 0.1076 - val_loss: 0.1048 - val_mae: 0.2229 - val_mse: 0.1048\n",
            "Epoch 73/100\n",
            "\u001b[1m250/250\u001b[0m \u001b[32m━━━━━━━━━━━━━━━━━━━━\u001b[0m\u001b[37m\u001b[0m \u001b[1m4s\u001b[0m 14ms/step - loss: 0.1135 - mae: 0.2292 - mse: 0.1135 - val_loss: 0.1037 - val_mae: 0.1986 - val_mse: 0.1037\n",
            "Epoch 74/100\n",
            "\u001b[1m250/250\u001b[0m \u001b[32m━━━━━━━━━━━━━━━━━━━━\u001b[0m\u001b[37m\u001b[0m \u001b[1m4s\u001b[0m 9ms/step - loss: 0.1102 - mae: 0.2186 - mse: 0.1102 - val_loss: 0.1043 - val_mae: 0.2040 - val_mse: 0.1043\n",
            "Epoch 75/100\n",
            "\u001b[1m250/250\u001b[0m \u001b[32m━━━━━━━━━━━━━━━━━━━━\u001b[0m\u001b[37m\u001b[0m \u001b[1m2s\u001b[0m 10ms/step - loss: 0.1113 - mae: 0.2216 - mse: 0.1113 - val_loss: 0.1044 - val_mae: 0.2095 - val_mse: 0.1044\n",
            "Epoch 76/100\n",
            "\u001b[1m250/250\u001b[0m \u001b[32m━━━━━━━━━━━━━━━━━━━━\u001b[0m\u001b[37m\u001b[0m \u001b[1m2s\u001b[0m 9ms/step - loss: 0.1107 - mae: 0.2222 - mse: 0.1107 - val_loss: 0.1042 - val_mae: 0.2158 - val_mse: 0.1042\n",
            "Epoch 77/100\n",
            "\u001b[1m250/250\u001b[0m \u001b[32m━━━━━━━━━━━━━━━━━━━━\u001b[0m\u001b[37m\u001b[0m \u001b[1m4s\u001b[0m 14ms/step - loss: 0.1103 - mae: 0.2230 - mse: 0.1103 - val_loss: 0.1039 - val_mae: 0.2152 - val_mse: 0.1039\n",
            "Epoch 78/100\n",
            "\u001b[1m250/250\u001b[0m \u001b[32m━━━━━━━━━━━━━━━━━━━━\u001b[0m\u001b[37m\u001b[0m \u001b[1m4s\u001b[0m 10ms/step - loss: 0.1116 - mae: 0.2250 - mse: 0.1116 - val_loss: 0.1037 - val_mae: 0.2141 - val_mse: 0.1037\n",
            "Epoch 79/100\n",
            "\u001b[1m250/250\u001b[0m \u001b[32m━━━━━━━━━━━━━━━━━━━━\u001b[0m\u001b[37m\u001b[0m \u001b[1m5s\u001b[0m 10ms/step - loss: 0.1100 - mae: 0.2226 - mse: 0.1100 - val_loss: 0.1046 - val_mae: 0.2219 - val_mse: 0.1046\n",
            "Epoch 80/100\n",
            "\u001b[1m250/250\u001b[0m \u001b[32m━━━━━━━━━━━━━━━━━━━━\u001b[0m\u001b[37m\u001b[0m \u001b[1m3s\u001b[0m 11ms/step - loss: 0.1106 - mae: 0.2241 - mse: 0.1106 - val_loss: 0.1038 - val_mae: 0.2056 - val_mse: 0.1038\n",
            "Epoch 81/100\n",
            "\u001b[1m250/250\u001b[0m \u001b[32m━━━━━━━━━━━━━━━━━━━━\u001b[0m\u001b[37m\u001b[0m \u001b[1m5s\u001b[0m 10ms/step - loss: 0.1145 - mae: 0.2261 - mse: 0.1145 - val_loss: 0.1043 - val_mae: 0.2034 - val_mse: 0.1043\n",
            "Epoch 82/100\n",
            "\u001b[1m250/250\u001b[0m \u001b[32m━━━━━━━━━━━━━━━━━━━━\u001b[0m\u001b[37m\u001b[0m \u001b[1m2s\u001b[0m 10ms/step - loss: 0.1069 - mae: 0.2130 - mse: 0.1069 - val_loss: 0.1034 - val_mae: 0.2155 - val_mse: 0.1034\n",
            "Epoch 83/100\n",
            "\u001b[1m250/250\u001b[0m \u001b[32m━━━━━━━━━━━━━━━━━━━━\u001b[0m\u001b[37m\u001b[0m \u001b[1m2s\u001b[0m 9ms/step - loss: 0.1152 - mae: 0.2310 - mse: 0.1152 - val_loss: 0.1045 - val_mae: 0.2105 - val_mse: 0.1045\n",
            "Epoch 84/100\n",
            "\u001b[1m250/250\u001b[0m \u001b[32m━━━━━━━━━━━━━━━━━━━━\u001b[0m\u001b[37m\u001b[0m \u001b[1m3s\u001b[0m 12ms/step - loss: 0.1092 - mae: 0.2194 - mse: 0.1092 - val_loss: 0.1039 - val_mae: 0.2065 - val_mse: 0.1039\n",
            "Epoch 85/100\n",
            "\u001b[1m250/250\u001b[0m \u001b[32m━━━━━━━━━━━━━━━━━━━━\u001b[0m\u001b[37m\u001b[0m \u001b[1m4s\u001b[0m 9ms/step - loss: 0.1124 - mae: 0.2248 - mse: 0.1124 - val_loss: 0.1037 - val_mae: 0.2106 - val_mse: 0.1037\n",
            "Epoch 86/100\n",
            "\u001b[1m250/250\u001b[0m \u001b[32m━━━━━━━━━━━━━━━━━━━━\u001b[0m\u001b[37m\u001b[0m \u001b[1m2s\u001b[0m 9ms/step - loss: 0.1112 - mae: 0.2220 - mse: 0.1112 - val_loss: 0.1045 - val_mae: 0.2205 - val_mse: 0.1045\n",
            "Epoch 87/100\n",
            "\u001b[1m250/250\u001b[0m \u001b[32m━━━━━━━━━━━━━━━━━━━━\u001b[0m\u001b[37m\u001b[0m \u001b[1m2s\u001b[0m 10ms/step - loss: 0.1125 - mae: 0.2262 - mse: 0.1125 - val_loss: 0.1048 - val_mae: 0.2176 - val_mse: 0.1048\n",
            "Epoch 88/100\n",
            "\u001b[1m250/250\u001b[0m \u001b[32m━━━━━━━━━━━━━━━━━━━━\u001b[0m\u001b[37m\u001b[0m \u001b[1m3s\u001b[0m 11ms/step - loss: 0.1093 - mae: 0.2221 - mse: 0.1093 - val_loss: 0.1052 - val_mae: 0.2299 - val_mse: 0.1052\n",
            "Epoch 89/100\n",
            "\u001b[1m250/250\u001b[0m \u001b[32m━━━━━━━━━━━━━━━━━━━━\u001b[0m\u001b[37m\u001b[0m \u001b[1m4s\u001b[0m 15ms/step - loss: 0.1092 - mae: 0.2226 - mse: 0.1092 - val_loss: 0.1039 - val_mae: 0.2167 - val_mse: 0.1039\n",
            "Epoch 90/100\n",
            "\u001b[1m250/250\u001b[0m \u001b[32m━━━━━━━━━━━━━━━━━━━━\u001b[0m\u001b[37m\u001b[0m \u001b[1m2s\u001b[0m 10ms/step - loss: 0.1038 - mae: 0.2117 - mse: 0.1038 - val_loss: 0.1038 - val_mae: 0.2145 - val_mse: 0.1038\n",
            "Epoch 91/100\n",
            "\u001b[1m250/250\u001b[0m \u001b[32m━━━━━━━━━━━━━━━━━━━━\u001b[0m\u001b[37m\u001b[0m \u001b[1m2s\u001b[0m 9ms/step - loss: 0.1078 - mae: 0.2191 - mse: 0.1078 - val_loss: 0.1041 - val_mae: 0.2217 - val_mse: 0.1041\n",
            "Epoch 92/100\n",
            "\u001b[1m250/250\u001b[0m \u001b[32m━━━━━━━━━━━━━━━━━━━━\u001b[0m\u001b[37m\u001b[0m \u001b[1m3s\u001b[0m 10ms/step - loss: 0.1100 - mae: 0.2235 - mse: 0.1100 - val_loss: 0.1045 - val_mae: 0.2079 - val_mse: 0.1045\n",
            "Epoch 93/100\n",
            "\u001b[1m250/250\u001b[0m \u001b[32m━━━━━━━━━━━━━━━━━━━━\u001b[0m\u001b[37m\u001b[0m \u001b[1m3s\u001b[0m 10ms/step - loss: 0.1081 - mae: 0.2179 - mse: 0.1081 - val_loss: 0.1035 - val_mae: 0.2103 - val_mse: 0.1035\n",
            "Epoch 94/100\n",
            "\u001b[1m250/250\u001b[0m \u001b[32m━━━━━━━━━━━━━━━━━━━━\u001b[0m\u001b[37m\u001b[0m \u001b[1m4s\u001b[0m 15ms/step - loss: 0.1106 - mae: 0.2225 - mse: 0.1106 - val_loss: 0.1036 - val_mae: 0.2112 - val_mse: 0.1036\n",
            "Epoch 95/100\n",
            "\u001b[1m250/250\u001b[0m \u001b[32m━━━━━━━━━━━━━━━━━━━━\u001b[0m\u001b[37m\u001b[0m \u001b[1m3s\u001b[0m 10ms/step - loss: 0.1061 - mae: 0.2157 - mse: 0.1061 - val_loss: 0.1038 - val_mae: 0.2157 - val_mse: 0.1038\n",
            "Epoch 96/100\n",
            "\u001b[1m250/250\u001b[0m \u001b[32m━━━━━━━━━━━━━━━━━━━━\u001b[0m\u001b[37m\u001b[0m \u001b[1m2s\u001b[0m 9ms/step - loss: 0.1083 - mae: 0.2216 - mse: 0.1083 - val_loss: 0.1042 - val_mae: 0.2111 - val_mse: 0.1042\n",
            "Epoch 97/100\n",
            "\u001b[1m250/250\u001b[0m \u001b[32m━━━━━━━━━━━━━━━━━━━━\u001b[0m\u001b[37m\u001b[0m \u001b[1m2s\u001b[0m 9ms/step - loss: 0.1074 - mae: 0.2164 - mse: 0.1074 - val_loss: 0.1047 - val_mae: 0.2112 - val_mse: 0.1047\n",
            "Epoch 98/100\n",
            "\u001b[1m250/250\u001b[0m \u001b[32m━━━━━━━━━━━━━━━━━━━━\u001b[0m\u001b[37m\u001b[0m \u001b[1m2s\u001b[0m 9ms/step - loss: 0.1051 - mae: 0.2128 - mse: 0.1051 - val_loss: 0.1050 - val_mae: 0.2170 - val_mse: 0.1050\n",
            "Epoch 99/100\n",
            "\u001b[1m250/250\u001b[0m \u001b[32m━━━━━━━━━━━━━━━━━━━━\u001b[0m\u001b[37m\u001b[0m \u001b[1m3s\u001b[0m 14ms/step - loss: 0.1061 - mae: 0.2169 - mse: 0.1061 - val_loss: 0.1049 - val_mae: 0.2135 - val_mse: 0.1049\n",
            "Epoch 100/100\n",
            "\u001b[1m250/250\u001b[0m \u001b[32m━━━━━━━━━━━━━━━━━━━━\u001b[0m\u001b[37m\u001b[0m \u001b[1m4s\u001b[0m 10ms/step - loss: 0.1062 - mae: 0.2159 - mse: 0.1062 - val_loss: 0.1045 - val_mae: 0.2076 - val_mse: 0.1045\n"
          ]
        },
        {
          "output_type": "display_data",
          "data": {
            "text/plain": [
              "\u001b[1mModel: \"sequential_1\"\u001b[0m\n"
            ],
            "text/html": [
              "<pre style=\"white-space:pre;overflow-x:auto;line-height:normal;font-family:Menlo,'DejaVu Sans Mono',consolas,'Courier New',monospace\"><span style=\"font-weight: bold\">Model: \"sequential_1\"</span>\n",
              "</pre>\n"
            ]
          },
          "metadata": {}
        },
        {
          "output_type": "display_data",
          "data": {
            "text/plain": [
              "┏━━━━━━━━━━━━━━━━━━━━━━━━━━━━━━━━━━━━━━┳━━━━━━━━━━━━━━━━━━━━━━━━━━━━━┳━━━━━━━━━━━━━━━━━┓\n",
              "┃\u001b[1m \u001b[0m\u001b[1mLayer (type)                        \u001b[0m\u001b[1m \u001b[0m┃\u001b[1m \u001b[0m\u001b[1mOutput Shape               \u001b[0m\u001b[1m \u001b[0m┃\u001b[1m \u001b[0m\u001b[1m        Param #\u001b[0m\u001b[1m \u001b[0m┃\n",
              "┡━━━━━━━━━━━━━━━━━━━━━━━━━━━━━━━━━━━━━━╇━━━━━━━━━━━━━━━━━━━━━━━━━━━━━╇━━━━━━━━━━━━━━━━━┩\n",
              "│ lstm_2 (\u001b[38;5;33mLSTM\u001b[0m)                        │ (\u001b[38;5;45mNone\u001b[0m, \u001b[38;5;34m7\u001b[0m, \u001b[38;5;34m64\u001b[0m)               │          \u001b[38;5;34m16,896\u001b[0m │\n",
              "├──────────────────────────────────────┼─────────────────────────────┼─────────────────┤\n",
              "│ dropout_2 (\u001b[38;5;33mDropout\u001b[0m)                  │ (\u001b[38;5;45mNone\u001b[0m, \u001b[38;5;34m7\u001b[0m, \u001b[38;5;34m64\u001b[0m)               │               \u001b[38;5;34m0\u001b[0m │\n",
              "├──────────────────────────────────────┼─────────────────────────────┼─────────────────┤\n",
              "│ lstm_3 (\u001b[38;5;33mLSTM\u001b[0m)                        │ (\u001b[38;5;45mNone\u001b[0m, \u001b[38;5;34m32\u001b[0m)                  │          \u001b[38;5;34m12,416\u001b[0m │\n",
              "├──────────────────────────────────────┼─────────────────────────────┼─────────────────┤\n",
              "│ dropout_3 (\u001b[38;5;33mDropout\u001b[0m)                  │ (\u001b[38;5;45mNone\u001b[0m, \u001b[38;5;34m32\u001b[0m)                  │               \u001b[38;5;34m0\u001b[0m │\n",
              "├──────────────────────────────────────┼─────────────────────────────┼─────────────────┤\n",
              "│ dense_1 (\u001b[38;5;33mDense\u001b[0m)                      │ (\u001b[38;5;45mNone\u001b[0m, \u001b[38;5;34m1\u001b[0m)                   │              \u001b[38;5;34m33\u001b[0m │\n",
              "└──────────────────────────────────────┴─────────────────────────────┴─────────────────┘\n"
            ],
            "text/html": [
              "<pre style=\"white-space:pre;overflow-x:auto;line-height:normal;font-family:Menlo,'DejaVu Sans Mono',consolas,'Courier New',monospace\">┏━━━━━━━━━━━━━━━━━━━━━━━━━━━━━━━━━━━━━━┳━━━━━━━━━━━━━━━━━━━━━━━━━━━━━┳━━━━━━━━━━━━━━━━━┓\n",
              "┃<span style=\"font-weight: bold\"> Layer (type)                         </span>┃<span style=\"font-weight: bold\"> Output Shape                </span>┃<span style=\"font-weight: bold\">         Param # </span>┃\n",
              "┡━━━━━━━━━━━━━━━━━━━━━━━━━━━━━━━━━━━━━━╇━━━━━━━━━━━━━━━━━━━━━━━━━━━━━╇━━━━━━━━━━━━━━━━━┩\n",
              "│ lstm_2 (<span style=\"color: #0087ff; text-decoration-color: #0087ff\">LSTM</span>)                        │ (<span style=\"color: #00d7ff; text-decoration-color: #00d7ff\">None</span>, <span style=\"color: #00af00; text-decoration-color: #00af00\">7</span>, <span style=\"color: #00af00; text-decoration-color: #00af00\">64</span>)               │          <span style=\"color: #00af00; text-decoration-color: #00af00\">16,896</span> │\n",
              "├──────────────────────────────────────┼─────────────────────────────┼─────────────────┤\n",
              "│ dropout_2 (<span style=\"color: #0087ff; text-decoration-color: #0087ff\">Dropout</span>)                  │ (<span style=\"color: #00d7ff; text-decoration-color: #00d7ff\">None</span>, <span style=\"color: #00af00; text-decoration-color: #00af00\">7</span>, <span style=\"color: #00af00; text-decoration-color: #00af00\">64</span>)               │               <span style=\"color: #00af00; text-decoration-color: #00af00\">0</span> │\n",
              "├──────────────────────────────────────┼─────────────────────────────┼─────────────────┤\n",
              "│ lstm_3 (<span style=\"color: #0087ff; text-decoration-color: #0087ff\">LSTM</span>)                        │ (<span style=\"color: #00d7ff; text-decoration-color: #00d7ff\">None</span>, <span style=\"color: #00af00; text-decoration-color: #00af00\">32</span>)                  │          <span style=\"color: #00af00; text-decoration-color: #00af00\">12,416</span> │\n",
              "├──────────────────────────────────────┼─────────────────────────────┼─────────────────┤\n",
              "│ dropout_3 (<span style=\"color: #0087ff; text-decoration-color: #0087ff\">Dropout</span>)                  │ (<span style=\"color: #00d7ff; text-decoration-color: #00d7ff\">None</span>, <span style=\"color: #00af00; text-decoration-color: #00af00\">32</span>)                  │               <span style=\"color: #00af00; text-decoration-color: #00af00\">0</span> │\n",
              "├──────────────────────────────────────┼─────────────────────────────┼─────────────────┤\n",
              "│ dense_1 (<span style=\"color: #0087ff; text-decoration-color: #0087ff\">Dense</span>)                      │ (<span style=\"color: #00d7ff; text-decoration-color: #00d7ff\">None</span>, <span style=\"color: #00af00; text-decoration-color: #00af00\">1</span>)                   │              <span style=\"color: #00af00; text-decoration-color: #00af00\">33</span> │\n",
              "└──────────────────────────────────────┴─────────────────────────────┴─────────────────┘\n",
              "</pre>\n"
            ]
          },
          "metadata": {}
        },
        {
          "output_type": "display_data",
          "data": {
            "text/plain": [
              "\u001b[1m Total params: \u001b[0m\u001b[38;5;34m88,037\u001b[0m (343.90 KB)\n"
            ],
            "text/html": [
              "<pre style=\"white-space:pre;overflow-x:auto;line-height:normal;font-family:Menlo,'DejaVu Sans Mono',consolas,'Courier New',monospace\"><span style=\"font-weight: bold\"> Total params: </span><span style=\"color: #00af00; text-decoration-color: #00af00\">88,037</span> (343.90 KB)\n",
              "</pre>\n"
            ]
          },
          "metadata": {}
        },
        {
          "output_type": "display_data",
          "data": {
            "text/plain": [
              "\u001b[1m Trainable params: \u001b[0m\u001b[38;5;34m29,345\u001b[0m (114.63 KB)\n"
            ],
            "text/html": [
              "<pre style=\"white-space:pre;overflow-x:auto;line-height:normal;font-family:Menlo,'DejaVu Sans Mono',consolas,'Courier New',monospace\"><span style=\"font-weight: bold\"> Trainable params: </span><span style=\"color: #00af00; text-decoration-color: #00af00\">29,345</span> (114.63 KB)\n",
              "</pre>\n"
            ]
          },
          "metadata": {}
        },
        {
          "output_type": "display_data",
          "data": {
            "text/plain": [
              "\u001b[1m Non-trainable params: \u001b[0m\u001b[38;5;34m0\u001b[0m (0.00 B)\n"
            ],
            "text/html": [
              "<pre style=\"white-space:pre;overflow-x:auto;line-height:normal;font-family:Menlo,'DejaVu Sans Mono',consolas,'Courier New',monospace\"><span style=\"font-weight: bold\"> Non-trainable params: </span><span style=\"color: #00af00; text-decoration-color: #00af00\">0</span> (0.00 B)\n",
              "</pre>\n"
            ]
          },
          "metadata": {}
        },
        {
          "output_type": "display_data",
          "data": {
            "text/plain": [
              "\u001b[1m Optimizer params: \u001b[0m\u001b[38;5;34m58,692\u001b[0m (229.27 KB)\n"
            ],
            "text/html": [
              "<pre style=\"white-space:pre;overflow-x:auto;line-height:normal;font-family:Menlo,'DejaVu Sans Mono',consolas,'Courier New',monospace\"><span style=\"font-weight: bold\"> Optimizer params: </span><span style=\"color: #00af00; text-decoration-color: #00af00\">58,692</span> (229.27 KB)\n",
              "</pre>\n"
            ]
          },
          "metadata": {}
        },
        {
          "output_type": "stream",
          "name": "stdout",
          "text": [
            "Training Loss: 0.10816559940576553\n",
            "Validation Loss: 0.10451322793960571\n",
            "Training Mean Absolute Error: 0.21949422359466553\n",
            "Validation Mean Absolute Error: 0.20759347081184387\n"
          ]
        }
      ]
    },
    {
      "cell_type": "code",
      "source": [
        "# Plot\n",
        "plt.subplot(1, 2, 1)\n",
        "plt.plot(lstm_history.history['loss'], label='Training Loss')\n",
        "plt.plot(lstm_history.history['val_loss'], label='Validation Loss')\n",
        "plt.title('Loss During Training')\n",
        "plt.xlabel('Epochs')\n",
        "plt.ylabel('Loss')\n",
        "plt.legend()\n",
        "\n",
        "plt.subplot(1, 2, 2)\n",
        "plt.plot(lstm_history.history['mae'], label='Training MAE')\n",
        "plt.plot(lstm_history.history['val_mae'], label='Validation MAE')\n",
        "plt.title('Mean Absolute Error During Training')\n",
        "plt.xlabel('Epochs')\n",
        "plt.ylabel('MAE')\n",
        "plt.legend()\n",
        "\n",
        "plt.tight_layout()\n",
        "plt.show()"
      ],
      "metadata": {
        "id": "xh_AtK1NXT93",
        "outputId": "2b4cbec0-cba1-4c9f-fbe1-fdc5a36bad3b",
        "colab": {
          "base_uri": "https://localhost:8080/",
          "height": 487
        }
      },
      "execution_count": 11,
      "outputs": [
        {
          "output_type": "display_data",
          "data": {
            "text/plain": [
              "<Figure size 640x480 with 2 Axes>"
            ],
            "image/png": "[encoded data removed]"
          },
          "metadata": {}
        }
      ]
    },
    {
      "cell_type": "code",
      "source": [
        "class NutritionRecommender:\n",
        "    def __init__(self, nutrition_data):\n",
        "        self.nutrition_data = nutrition_data\n",
        "\n",
        "    def recommend_nutrition(self, age, stunting_status, weight):\n",
        "        filtered_data = self.nutrition_data[\n",
        "            (self.nutrition_data['usia minimal(bulan)'] <= age) &\n",
        "            (self.nutrition_data['usia maksimal(bulan)'] >= age)\n",
        "        ]\n",
        "\n",
        "        if stunting_status == 'Stunting':\n",
        "            recommended = filtered_data[\n",
        "                (filtered_data['protein (g)'] > filtered_data['protein (g)'].median()) &\n",
        "                (filtered_data['kalori'] > filtered_data['kalori'].median())\n",
        "            ]\n",
        "        else:\n",
        "            recommended = filtered_data\n",
        "\n",
        "        recommended['adjusted_portion'] = recommended['kalori'] * (weight / 10)\n",
        "\n",
        "        return recommended.sort_values('adjusted_portion', ascending=False).head(5)\n",
        "\n",
        "recommender = NutritionRecommender(nutrition_data)\n",
        "recommendations = recommender.recommend_nutrition(age=24, stunting_status='Stunting', weight=10)\n"
      ],
      "metadata": {
        "id": "sjgzTXUmJw2u",
        "outputId": "1bf2459b-5c92-4feb-ad6f-abc2df6a66ef",
        "colab": {
          "base_uri": "https://localhost:8080/"
        }
      },
      "execution_count": 8,
      "outputs": [
        {
          "output_type": "stream",
          "name": "stderr",
          "text": [
            "<ipython-input-8-c6628a803681>:19: SettingWithCopyWarning: \n",
            "A value is trying to be set on a copy of a slice from a DataFrame.\n",
            "Try using .loc[row_indexer,col_indexer] = value instead\n",
            "\n",
            "See the caveats in the documentation: https://pandas.pydata.org/pandas-docs/stable/user_guide/indexing.html#returning-a-view-versus-a-copy\n",
            "  recommended['adjusted_portion'] = recommended['kalori'] * (weight / 10)\n"
          ]
        }
      ]
    },
    {
      "cell_type": "markdown",
      "source": [],
      "metadata": {
        "id": "23pnwdMJPLJH"
      }
    },
    {
      "cell_type": "code",
      "source": [
        "plt.scatter(recommendations['kalori'], recommendations['protein (g)'], color='blue', label='Recommended Foods')\n",
        "plt.title('Nutrition Recommendations: Calories vs Protein')\n",
        "plt.xlabel('Calories')\n",
        "plt.ylabel('Protein (g)')\n",
        "plt.grid(True)\n",
        "\n",
        "for i in range(len(recommendations)):\n",
        "    plt.text(recommendations['kalori'].iloc[i], recommendations['protein (g)'].iloc[i],\n",
        "             f\"{recommendations.index[i]}\", fontsize=9, ha='right')\n",
        "\n",
        "plt.legend()\n",
        "plt.show()"
      ],
      "metadata": {
        "id": "g_vX-mUOYgaH",
        "outputId": "43296de5-beff-4c24-f073-1065039b88dc",
        "colab": {
          "base_uri": "https://localhost:8080/",
          "height": 472
        }
      },
      "execution_count": 19,
      "outputs": [
        {
          "output_type": "display_data",
          "data": {
            "text/plain": [
              "<Figure size 640x480 with 1 Axes>"
            ],
            "image/png": "[encoded data removed]"
          },
          "metadata": {}
        }
      ]
    },
    {
      "cell_type": "code",
      "source": [
        "class NutritionRecommender:\n",
        "    def __init__(self, nutrition_data):\n",
        "        self.nutrition_data = nutrition_data\n",
        "\n",
        "    def recommend_nutrition(self, age, stunting_status, weight):\n",
        "        filtered_data = self.nutrition_data[\n",
        "            (self.nutrition_data['usia minimal(bulan)'] <= age) &\n",
        "            (self.nutrition_data['usia maksimal(bulan)'] >= age)\n",
        "        ]\n",
        "\n",
        "        if stunting_status == 'Stunting':\n",
        "            recommended = filtered_data[\n",
        "                (filtered_data['protein (g)'] > filtered_data['protein (g)'].median()) &\n",
        "                (filtered_data['kalori'] > filtered_data['kalori'].median())\n",
        "            ]\n",
        "        else:\n",
        "            recommended = filtered_data\n",
        "\n",
        "        recommended['adjusted_portion'] = recommended['kalori'] * (weight / 10)\n",
        "\n",
        "        top_recommendations = recommended.sort_values('adjusted_portion', ascending=False).head(5)\n",
        "\n",
        "        recommendations_text = \"Berikut adalah rekomendasi kebutuhan gizi berdasarkan umur dan berat badan Anda:\\n\"\n",
        "        recommendations_text += \"-\" * 80 + \"\\n\"\n",
        "\n",
        "        for index, row in top_recommendations.iterrows():\n",
        "            recommendations_text += (\n",
        "                f\"Rekomendasi :\"\n",
        "                f\"Untuk anak dengan usia {row['usia minimal(bulan)']} - {row['usia maksimal(bulan)']} bulan,\\n\"\n",
        "                f\"Disarankan makanan dengan {row['protein (g)']} gram protein dan {row['kalori']} kalori per porsi.\\n\"\n",
        "                f\"Karena berat badan Anda {weight} kg, maka porsi makanan yang disesuaikan adalah {row['adjusted_portion']} kalori.\\n\\n\"\n",
        "            )\n",
        "\n",
        "        return recommendations_text\n",
        "\n",
        "age = int(input(\"Masukkan usia anak (dalam bulan): \"))\n",
        "stunting_status = input(\"Masukkan status stunting (Stunting / Tidak Stunting): \")\n",
        "weight = float(input(\"Masukkan berat badan anak (dalam kg): \"))\n",
        "\n",
        "recommender = NutritionRecommender(nutrition_data)\n",
        "recommendations_text = recommender.recommend_nutrition(age=age, stunting_status=stunting_status, weight=weight)\n",
        "\n",
        "print(recommendations_text)\n"
      ],
      "metadata": {
        "id": "ro7njDHuY2KX",
        "outputId": "3a9dadde-62d7-4ffc-aa87-c4fea530e7c0",
        "colab": {
          "base_uri": "https://localhost:8080/"
        }
      },
      "execution_count": 21,
      "outputs": [
        {
          "output_type": "stream",
          "name": "stdout",
          "text": [
            "Masukkan usia anak (dalam bulan): 30\n",
            "Masukkan status stunting (Stunting / Tidak Stunting): Stunting\n",
            "Masukkan berat badan anak (dalam kg): 8\n",
            "Berikut adalah rekomendasi kebutuhan gizi berdasarkan umur dan berat badan Anda:\n",
            "--------------------------------------------------------------------------------\n",
            "Rekomendasi 20:\n",
            "Untuk anak dengan usia 18 - 60 bulan,\n",
            "Disarankan makanan dengan 12.0 gram protein dan 230 kalori per porsi.\n",
            "Karena berat badan Anda 8.0 kg, maka porsi makanan yang disesuaikan adalah 184.0 kalori.\n",
            "\n",
            "Rekomendasi 15:\n",
            "Untuk anak dengan usia 18 - 60 bulan,\n",
            "Disarankan makanan dengan 9.0 gram protein dan 220 kalori per porsi.\n",
            "Karena berat badan Anda 8.0 kg, maka porsi makanan yang disesuaikan adalah 176.0 kalori.\n",
            "\n",
            "Rekomendasi 14:\n",
            "Untuk anak dengan usia 18 - 60 bulan,\n",
            "Disarankan makanan dengan 8.0 gram protein dan 200 kalori per porsi.\n",
            "Karena berat badan Anda 8.0 kg, maka porsi makanan yang disesuaikan adalah 160.0 kalori.\n",
            "\n",
            "Rekomendasi 18:\n",
            "Untuk anak dengan usia 18 - 60 bulan,\n",
            "Disarankan makanan dengan 6.0 gram protein dan 170 kalori per porsi.\n",
            "Karena berat badan Anda 8.0 kg, maka porsi makanan yang disesuaikan adalah 136.0 kalori.\n",
            "\n",
            "Rekomendasi 19:\n",
            "Untuk anak dengan usia 18 - 60 bulan,\n",
            "Disarankan makanan dengan 5.0 gram protein dan 160 kalori per porsi.\n",
            "Karena berat badan Anda 8.0 kg, maka porsi makanan yang disesuaikan adalah 128.0 kalori.\n",
            "\n",
            "\n"
          ]
        },
        {
          "output_type": "stream",
          "name": "stderr",
          "text": [
            "<ipython-input-21-ab94386b934d>:19: SettingWithCopyWarning: \n",
            "A value is trying to be set on a copy of a slice from a DataFrame.\n",
            "Try using .loc[row_indexer,col_indexer] = value instead\n",
            "\n",
            "See the caveats in the documentation: https://pandas.pydata.org/pandas-docs/stable/user_guide/indexing.html#returning-a-view-versus-a-copy\n",
            "  recommended['adjusted_portion'] = recommended['kalori'] * (weight / 10)\n"
          ]
        }
      ]
    }
  ]
}