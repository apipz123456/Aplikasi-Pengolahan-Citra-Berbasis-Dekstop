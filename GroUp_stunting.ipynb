{
  "nbformat": 4,
  "nbformat_minor": 0,
  "metadata": {
    "colab": {
      "provenance": [],
      "include_colab_link": true
    },
    "kernelspec": {
      "name": "python3",
      "display_name": "Python 3"
    },
    "language_info": {
      "name": "python"
    }
  },
  "cells": [
    {
      "cell_type": "markdown",
      "metadata": {
        "id": "view-in-github",
        "colab_type": "text"
      },
      "source": [
        "<a href=\"https://colab.research.google.com/github/apipz123456/Aplikasi-Pengolahan-Citra-Berbasis-Dekstop/blob/main/GroUp_stunting.ipynb\" target=\"_parent\"><img src=\"https://colab.research.google.com/assets/colab-badge.svg\" alt=\"Open In Colab\"/></a>"
      ]
    },
    {
      "cell_type": "markdown",
      "source": [
        "Import Dataset dari github"
      ],
      "metadata": {
        "id": "4RNfYcxX9Co0"
      }
    },
    {
      "cell_type": "code",
      "source": [
        "!git clone https://github.com/DenisKai7/GroUp.git"
      ],
      "metadata": {
        "id": "rIvIgkdlwQx5",
        "outputId": "19760670-77d0-4495-9a34-264aef3b990a",
        "colab": {
          "base_uri": "https://localhost:8080/"
        }
      },
      "execution_count": 2,
      "outputs": [
        {
          "output_type": "stream",
          "name": "stdout",
          "text": [
            "Cloning into 'GroUp'...\n",
            "remote: Enumerating objects: 184, done.\u001b[K\n",
            "remote: Counting objects: 100% (16/16), done.\u001b[K\n",
            "remote: Compressing objects: 100% (16/16), done.\u001b[K\n",
            "remote: Total 184 (delta 6), reused 2 (delta 0), pack-reused 168 (from 1)\u001b[K\n",
            "Receiving objects: 100% (184/184), 1.14 MiB | 8.54 MiB/s, done.\n",
            "Resolving deltas: 100% (21/21), done.\n"
          ]
        }
      ]
    },
    {
      "cell_type": "code",
      "source": [
        "%cd GroUp\n",
        "!git checkout dataset"
      ],
      "metadata": {
        "id": "lEf65dKrx245",
        "outputId": "5b6ba0d5-0cb4-4d58-ca56-09b3122a535d",
        "colab": {
          "base_uri": "https://localhost:8080/"
        }
      },
      "execution_count": 3,
      "outputs": [
        {
          "output_type": "stream",
          "name": "stdout",
          "text": [
            "/content/GroUp\n",
            "Branch 'dataset' set up to track remote branch 'dataset' from 'origin'.\n",
            "Switched to a new branch 'dataset'\n"
          ]
        }
      ]
    },
    {
      "cell_type": "code",
      "source": [
        "!pip install optuna"
      ],
      "metadata": {
        "id": "bIFso5Jg8S0I",
        "outputId": "4d8ea68b-428d-475f-ec90-f2edde03ded4",
        "colab": {
          "base_uri": "https://localhost:8080/"
        }
      },
      "execution_count": 4,
      "outputs": [
        {
          "output_type": "stream",
          "name": "stdout",
          "text": [
            "Collecting optuna\n",
            "  Downloading optuna-4.1.0-py3-none-any.whl.metadata (16 kB)\n",
            "Collecting alembic>=1.5.0 (from optuna)\n",
            "  Downloading alembic-1.14.0-py3-none-any.whl.metadata (7.4 kB)\n",
            "Collecting colorlog (from optuna)\n",
            "  Downloading colorlog-6.9.0-py3-none-any.whl.metadata (10 kB)\n",
            "Requirement already satisfied: numpy in /usr/local/lib/python3.10/dist-packages (from optuna) (1.26.4)\n",
            "Requirement already satisfied: packaging>=20.0 in /usr/local/lib/python3.10/dist-packages (from optuna) (24.2)\n",
            "Requirement already satisfied: sqlalchemy>=1.4.2 in /usr/local/lib/python3.10/dist-packages (from optuna) (2.0.36)\n",
            "Requirement already satisfied: tqdm in /usr/local/lib/python3.10/dist-packages (from optuna) (4.66.6)\n",
            "Requirement already satisfied: PyYAML in /usr/local/lib/python3.10/dist-packages (from optuna) (6.0.2)\n",
            "Collecting Mako (from alembic>=1.5.0->optuna)\n",
            "  Downloading Mako-1.3.6-py3-none-any.whl.metadata (2.9 kB)\n",
            "Requirement already satisfied: typing-extensions>=4 in /usr/local/lib/python3.10/dist-packages (from alembic>=1.5.0->optuna) (4.12.2)\n",
            "Requirement already satisfied: greenlet!=0.4.17 in /usr/local/lib/python3.10/dist-packages (from sqlalchemy>=1.4.2->optuna) (3.1.1)\n",
            "Requirement already satisfied: MarkupSafe>=0.9.2 in /usr/local/lib/python3.10/dist-packages (from Mako->alembic>=1.5.0->optuna) (3.0.2)\n",
            "Downloading optuna-4.1.0-py3-none-any.whl (364 kB)\n",
            "\u001b[2K   \u001b[90m━━━━━━━━━━━━━━━━━━━━━━━━━━━━━━━━━━━━━━━━\u001b[0m \u001b[32m364.4/364.4 kB\u001b[0m \u001b[31m6.5 MB/s\u001b[0m eta \u001b[36m0:00:00\u001b[0m\n",
            "\u001b[?25hDownloading alembic-1.14.0-py3-none-any.whl (233 kB)\n",
            "\u001b[2K   \u001b[90m━━━━━━━━━━━━━━━━━━━━━━━━━━━━━━━━━━━━━━━━\u001b[0m \u001b[32m233.5/233.5 kB\u001b[0m \u001b[31m9.5 MB/s\u001b[0m eta \u001b[36m0:00:00\u001b[0m\n",
            "\u001b[?25hDownloading colorlog-6.9.0-py3-none-any.whl (11 kB)\n",
            "Downloading Mako-1.3.6-py3-none-any.whl (78 kB)\n",
            "\u001b[2K   \u001b[90m━━━━━━━━━━━━━━━━━━━━━━━━━━━━━━━━━━━━━━━━\u001b[0m \u001b[32m78.6/78.6 kB\u001b[0m \u001b[31m3.4 MB/s\u001b[0m eta \u001b[36m0:00:00\u001b[0m\n",
            "\u001b[?25hInstalling collected packages: Mako, colorlog, alembic, optuna\n",
            "Successfully installed Mako-1.3.6 alembic-1.14.0 colorlog-6.9.0 optuna-4.1.0\n"
          ]
        }
      ]
    },
    {
      "cell_type": "markdown",
      "source": [
        "Import Library yang dibutuhkan"
      ],
      "metadata": {
        "id": "FT3hSyuGewKW"
      }
    },
    {
      "cell_type": "code",
      "source": [
        "import pandas as pd\n",
        "import numpy as np\n",
        "import tensorflow as tf\n",
        "from tensorflow import keras\n",
        "from sklearn.model_selection import train_test_split\n",
        "from sklearn.preprocessing import StandardScaler, LabelEncoder\n",
        "from sklearn.ensemble import RandomForestClassifier\n",
        "from sklearn.metrics import accuracy_score, classification_report, confusion_matrix\n",
        "from sklearn.neighbors import NearestNeighbors\n",
        "import matplotlib.pyplot as plt\n",
        "import seaborn as sns\n",
        "import optuna\n",
        "from tensorflow.keras.preprocessing import sequence\n",
        "from tensorflow.keras.models import Sequential\n",
        "from tensorflow.keras.layers import LSTM, Dense, Dropout"
      ],
      "metadata": {
        "id": "pG4nQXIRevwE"
      },
      "execution_count": 5,
      "outputs": []
    },
    {
      "cell_type": "markdown",
      "source": [
        "**Preprocessing**"
      ],
      "metadata": {
        "id": "4aqduzviON3f"
      }
    },
    {
      "cell_type": "markdown",
      "source": [
        "load dataset"
      ],
      "metadata": {
        "id": "YGLhyGZLOT9Y"
      }
    },
    {
      "cell_type": "code",
      "source": [
        "#Load Dataset\n",
        "data_path = '/content/GroUp/Stunting_Dataset.csv'\n",
        "nutrition_data_path = '/content/GroUp/nutrition.csv'\n",
        "data = pd.read_csv(data_path)\n",
        "nutrition_data = pd.read_csv(nutrition_data_path)\n",
        "\n",
        "#Preprocessing Data\n",
        "class DataPreprocessor:\n",
        "    def __init__(self, data):\n",
        "        self.data = data\n",
        "        self.scaler = StandardScaler()\n",
        "        self.label_encoder = LabelEncoder()\n",
        "\n",
        "    def preprocess(self):\n",
        "        # Handle missing values\n",
        "        self._handle_missing_values()\n",
        "        # Feature engineering\n",
        "        self._feature_engineering()\n",
        "        return self._prepare_model_data()\n",
        "\n",
        "    def _handle_missing_values(self):\n",
        "        numeric_columns = self.data.select_dtypes(include=[np.number]).columns\n",
        "        self.data[numeric_columns] = self.data[numeric_columns].fillna(\n",
        "            self.data[numeric_columns].median()\n",
        "        )\n",
        "\n",
        "    def _feature_engineering(self):\n",
        "        self.data['BMI'] = self.data['Body Weight'] / ((self.data['Body Length'] / 100) ** 2)\n",
        "        self.data['Gender_Encoded'] = self.label_encoder.fit_transform(self.data['Gender'])\n",
        "\n",
        "    def _prepare_model_data(self):\n",
        "        features = ['Age', 'Birth Weight', 'Birth Length', 'Body Weight',\n",
        "                    'Body Length', 'BMI', 'Gender_Encoded']\n",
        "        X = self.data[features]\n",
        "        y = self.label_encoder.fit_transform(self.data['Stunting'])\n",
        "\n",
        "        X_scaled = self.scaler.fit_transform(X)\n",
        "        return X_scaled, y\n",
        "\n",
        "preprocessor = DataPreprocessor(data)\n",
        "X, y = preprocessor.preprocess()"
      ],
      "metadata": {
        "id": "2qgDi8uU1RG5"
      },
      "execution_count": 6,
      "outputs": []
    },
    {
      "cell_type": "code",
      "source": [
        "class ModelTrainer:\n",
        "    def __init__(self):\n",
        "        self.models = {}\n",
        "\n",
        "    def train_random_forest(self, X, y):\n",
        "        def objective(trial):\n",
        "            params = {\n",
        "                'n_estimators': trial.suggest_int('n_estimators', 50, 300),\n",
        "                'max_depth': trial.suggest_int('max_depth', 3, 10),\n",
        "                'min_samples_split': trial.suggest_int('min_samples_split', 2, 10)\n",
        "            }\n",
        "\n",
        "            rf = RandomForestClassifier(**params)\n",
        "            rf.fit(X, y)\n",
        "\n",
        "            y_pred = rf.predict(X)\n",
        "            return accuracy_score(y, y_pred)\n",
        "\n",
        "        study = optuna.create_study(direction='maximize')\n",
        "        study.optimize(objective, n_trials=50)\n",
        "\n",
        "        best_rf = RandomForestClassifier(**study.best_params)\n",
        "        best_rf.fit(X, y)\n",
        "        return best_rf, study.best_params\n",
        "\n",
        "trainer = ModelTrainer()\n",
        "rf_model, rf_params = trainer.train_random_forest(X, y)"
      ],
      "metadata": {
        "id": "7Tkw_VnZ4CUV",
        "outputId": "3f699be8-83aa-4faa-e62f-75053bf02de0",
        "colab": {
          "base_uri": "https://localhost:8080/"
        }
      },
      "execution_count": 7,
      "outputs": [
        {
          "output_type": "stream",
          "name": "stderr",
          "text": [
            "[I 2024-11-22 15:28:48,104] A new study created in memory with name: no-name-86ba917f-3232-475c-a6f3-e6892552da48\n",
            "[I 2024-11-22 15:28:50,286] Trial 0 finished with value: 0.8782 and parameters: {'n_estimators': 245, 'max_depth': 8, 'min_samples_split': 3}. Best is trial 0 with value: 0.8782.\n",
            "[I 2024-11-22 15:28:53,088] Trial 1 finished with value: 0.8609 and parameters: {'n_estimators': 265, 'max_depth': 5, 'min_samples_split': 6}. Best is trial 0 with value: 0.8782.\n",
            "[I 2024-11-22 15:28:54,518] Trial 2 finished with value: 0.8594 and parameters: {'n_estimators': 162, 'max_depth': 5, 'min_samples_split': 8}. Best is trial 0 with value: 0.8782.\n",
            "[I 2024-11-22 15:28:59,269] Trial 3 finished with value: 0.8862 and parameters: {'n_estimators': 277, 'max_depth': 10, 'min_samples_split': 9}. Best is trial 3 with value: 0.8862.\n",
            "[I 2024-11-22 15:29:00,648] Trial 4 finished with value: 0.8525 and parameters: {'n_estimators': 108, 'max_depth': 3, 'min_samples_split': 3}. Best is trial 3 with value: 0.8862.\n",
            "[I 2024-11-22 15:29:03,718] Trial 5 finished with value: 0.8608 and parameters: {'n_estimators': 206, 'max_depth': 5, 'min_samples_split': 3}. Best is trial 3 with value: 0.8862.\n",
            "[I 2024-11-22 15:29:05,164] Trial 6 finished with value: 0.8561 and parameters: {'n_estimators': 150, 'max_depth': 4, 'min_samples_split': 10}. Best is trial 3 with value: 0.8862.\n",
            "[I 2024-11-22 15:29:07,209] Trial 7 finished with value: 0.8883 and parameters: {'n_estimators': 121, 'max_depth': 10, 'min_samples_split': 7}. Best is trial 7 with value: 0.8883.\n",
            "[I 2024-11-22 15:29:08,737] Trial 8 finished with value: 0.878 and parameters: {'n_estimators': 82, 'max_depth': 8, 'min_samples_split': 7}. Best is trial 7 with value: 0.8883.\n",
            "[I 2024-11-22 15:29:11,675] Trial 9 finished with value: 0.8716 and parameters: {'n_estimators': 219, 'max_depth': 7, 'min_samples_split': 6}. Best is trial 7 with value: 0.8883.\n",
            "[I 2024-11-22 15:29:12,825] Trial 10 finished with value: 0.8909 and parameters: {'n_estimators': 58, 'max_depth': 10, 'min_samples_split': 5}. Best is trial 10 with value: 0.8909.\n",
            "[I 2024-11-22 15:29:13,420] Trial 11 finished with value: 0.8899 and parameters: {'n_estimators': 50, 'max_depth': 10, 'min_samples_split': 5}. Best is trial 10 with value: 0.8909.\n",
            "[I 2024-11-22 15:29:13,979] Trial 12 finished with value: 0.8838 and parameters: {'n_estimators': 50, 'max_depth': 9, 'min_samples_split': 5}. Best is trial 10 with value: 0.8909.\n",
            "[I 2024-11-22 15:29:14,592] Trial 13 finished with value: 0.8911 and parameters: {'n_estimators': 51, 'max_depth': 10, 'min_samples_split': 5}. Best is trial 13 with value: 0.8911.\n",
            "[I 2024-11-22 15:29:15,526] Trial 14 finished with value: 0.8774 and parameters: {'n_estimators': 90, 'max_depth': 8, 'min_samples_split': 4}. Best is trial 13 with value: 0.8911.\n",
            "[I 2024-11-22 15:29:16,073] Trial 15 finished with value: 0.8875 and parameters: {'n_estimators': 70, 'max_depth': 9, 'min_samples_split': 2}. Best is trial 13 with value: 0.8911.\n",
            "[I 2024-11-22 15:29:16,882] Trial 16 finished with value: 0.8717 and parameters: {'n_estimators': 128, 'max_depth': 7, 'min_samples_split': 5}. Best is trial 13 with value: 0.8911.\n",
            "[I 2024-11-22 15:29:17,865] Trial 17 finished with value: 0.885 and parameters: {'n_estimators': 100, 'max_depth': 9, 'min_samples_split': 4}. Best is trial 13 with value: 0.8911.\n",
            "[I 2024-11-22 15:29:19,361] Trial 18 finished with value: 0.8888 and parameters: {'n_estimators': 197, 'max_depth': 10, 'min_samples_split': 7}. Best is trial 13 with value: 0.8911.\n",
            "[I 2024-11-22 15:29:20,173] Trial 19 finished with value: 0.8658 and parameters: {'n_estimators': 145, 'max_depth': 6, 'min_samples_split': 4}. Best is trial 13 with value: 0.8911.\n",
            "[I 2024-11-22 15:29:20,713] Trial 20 finished with value: 0.888 and parameters: {'n_estimators': 73, 'max_depth': 9, 'min_samples_split': 2}. Best is trial 13 with value: 0.8911.\n",
            "[I 2024-11-22 15:29:21,108] Trial 21 finished with value: 0.8912 and parameters: {'n_estimators': 50, 'max_depth': 10, 'min_samples_split': 5}. Best is trial 21 with value: 0.8912.\n",
            "[I 2024-11-22 15:29:21,526] Trial 22 finished with value: 0.8904 and parameters: {'n_estimators': 51, 'max_depth': 10, 'min_samples_split': 5}. Best is trial 21 with value: 0.8912.\n",
            "[I 2024-11-22 15:29:22,051] Trial 23 finished with value: 0.8835 and parameters: {'n_estimators': 70, 'max_depth': 9, 'min_samples_split': 6}. Best is trial 21 with value: 0.8912.\n",
            "[I 2024-11-22 15:29:22,682] Trial 24 finished with value: 0.8782 and parameters: {'n_estimators': 90, 'max_depth': 8, 'min_samples_split': 4}. Best is trial 21 with value: 0.8912.\n",
            "[I 2024-11-22 15:29:23,548] Trial 25 finished with value: 0.8914 and parameters: {'n_estimators': 112, 'max_depth': 10, 'min_samples_split': 5}. Best is trial 25 with value: 0.8914.\n",
            "[I 2024-11-22 15:29:24,390] Trial 26 finished with value: 0.8822 and parameters: {'n_estimators': 116, 'max_depth': 9, 'min_samples_split': 8}. Best is trial 25 with value: 0.8914.\n",
            "[I 2024-11-22 15:29:25,210] Trial 27 finished with value: 0.8721 and parameters: {'n_estimators': 136, 'max_depth': 7, 'min_samples_split': 6}. Best is trial 25 with value: 0.8914.\n",
            "[I 2024-11-22 15:29:26,931] Trial 28 finished with value: 0.8921 and parameters: {'n_estimators': 171, 'max_depth': 10, 'min_samples_split': 4}. Best is trial 28 with value: 0.8921.\n",
            "[I 2024-11-22 15:29:28,784] Trial 29 finished with value: 0.8793 and parameters: {'n_estimators': 186, 'max_depth': 8, 'min_samples_split': 3}. Best is trial 28 with value: 0.8921.\n",
            "[I 2024-11-22 15:29:30,071] Trial 30 finished with value: 0.8783 and parameters: {'n_estimators': 167, 'max_depth': 8, 'min_samples_split': 4}. Best is trial 28 with value: 0.8921.\n",
            "[I 2024-11-22 15:29:31,788] Trial 31 finished with value: 0.8909 and parameters: {'n_estimators': 227, 'max_depth': 10, 'min_samples_split': 5}. Best is trial 28 with value: 0.8921.\n",
            "[I 2024-11-22 15:29:32,503] Trial 32 finished with value: 0.8932 and parameters: {'n_estimators': 94, 'max_depth': 10, 'min_samples_split': 3}. Best is trial 32 with value: 0.8932.\n",
            "[I 2024-11-22 15:29:33,267] Trial 33 finished with value: 0.8876 and parameters: {'n_estimators': 104, 'max_depth': 9, 'min_samples_split': 2}. Best is trial 32 with value: 0.8932.\n",
            "[I 2024-11-22 15:29:35,196] Trial 34 finished with value: 0.8945 and parameters: {'n_estimators': 252, 'max_depth': 10, 'min_samples_split': 3}. Best is trial 34 with value: 0.8945.\n",
            "[I 2024-11-22 15:29:37,323] Trial 35 finished with value: 0.8869 and parameters: {'n_estimators': 300, 'max_depth': 9, 'min_samples_split': 3}. Best is trial 34 with value: 0.8945.\n",
            "[I 2024-11-22 15:29:38,802] Trial 36 finished with value: 0.8667 and parameters: {'n_estimators': 259, 'max_depth': 6, 'min_samples_split': 3}. Best is trial 34 with value: 0.8945.\n",
            "[I 2024-11-22 15:29:40,111] Trial 37 finished with value: 0.8532 and parameters: {'n_estimators': 237, 'max_depth': 3, 'min_samples_split': 2}. Best is trial 34 with value: 0.8945.\n",
            "[I 2024-11-22 15:29:42,118] Trial 38 finished with value: 0.894 and parameters: {'n_estimators': 177, 'max_depth': 10, 'min_samples_split': 3}. Best is trial 34 with value: 0.8945.\n",
            "[I 2024-11-22 15:29:43,710] Trial 39 finished with value: 0.8949 and parameters: {'n_estimators': 181, 'max_depth': 10, 'min_samples_split': 3}. Best is trial 39 with value: 0.8949.\n",
            "[I 2024-11-22 15:29:45,032] Trial 40 finished with value: 0.8882 and parameters: {'n_estimators': 184, 'max_depth': 9, 'min_samples_split': 2}. Best is trial 39 with value: 0.8949.\n",
            "[I 2024-11-22 15:29:46,252] Trial 41 finished with value: 0.895 and parameters: {'n_estimators': 158, 'max_depth': 10, 'min_samples_split': 3}. Best is trial 41 with value: 0.895.\n",
            "[I 2024-11-22 15:29:46,986] Trial 42 finished with value: 0.8567 and parameters: {'n_estimators': 155, 'max_depth': 4, 'min_samples_split': 3}. Best is trial 41 with value: 0.895.\n",
            "[I 2024-11-22 15:29:48,658] Trial 43 finished with value: 0.8944 and parameters: {'n_estimators': 215, 'max_depth': 10, 'min_samples_split': 3}. Best is trial 41 with value: 0.895.\n",
            "[I 2024-11-22 15:29:50,591] Trial 44 finished with value: 0.8949 and parameters: {'n_estimators': 257, 'max_depth': 10, 'min_samples_split': 3}. Best is trial 41 with value: 0.895.\n",
            "[I 2024-11-22 15:29:52,380] Trial 45 finished with value: 0.8886 and parameters: {'n_estimators': 252, 'max_depth': 9, 'min_samples_split': 2}. Best is trial 41 with value: 0.895.\n",
            "[I 2024-11-22 15:29:55,297] Trial 46 finished with value: 0.8861 and parameters: {'n_estimators': 276, 'max_depth': 10, 'min_samples_split': 10}. Best is trial 41 with value: 0.895.\n",
            "[I 2024-11-22 15:29:57,181] Trial 47 finished with value: 0.8862 and parameters: {'n_estimators': 213, 'max_depth': 9, 'min_samples_split': 3}. Best is trial 41 with value: 0.895.\n",
            "[I 2024-11-22 15:29:59,009] Trial 48 finished with value: 0.893 and parameters: {'n_estimators': 239, 'max_depth': 10, 'min_samples_split': 4}. Best is trial 41 with value: 0.895.\n",
            "[I 2024-11-22 15:30:00,317] Trial 49 finished with value: 0.8795 and parameters: {'n_estimators': 196, 'max_depth': 8, 'min_samples_split': 2}. Best is trial 41 with value: 0.895.\n"
          ]
        }
      ]
    },
    {
      "cell_type": "code",
      "source": [
        "def create_lstm_model(input_shape):\n",
        "    model = Sequential([\n",
        "        LSTM(64, input_shape=input_shape, return_sequences=True),\n",
        "        Dropout(0.3),\n",
        "        LSTM(32, return_sequences=False),\n",
        "        Dropout(0.3),\n",
        "        Dense(1)\n",
        "    ])\n",
        "    model.compile(loss='mean_squared_error',\n",
        "                  optimizer='adam',\n",
        "                  metrics=['mae', 'mse'])\n",
        "    return model\n",
        "\n",
        "X_lstm = np.expand_dims(X, axis=2)\n",
        "y_lstm = y.astype(float)\n",
        "\n",
        "X_train, X_test, y_train, y_test = train_test_split(X_lstm, y_lstm, test_size=0.2)\n",
        "\n",
        "lstm_model = create_lstm_model((X_train.shape[1], 1))\n",
        "lstm_history = lstm_model.fit(X_train, y_train, epochs=100, validation_data=(X_test, y_test))\n",
        "\n",
        "lstm_model.summary()\n",
        "\n",
        "print(\"Training Loss:\", lstm_history.history['loss'][-1])\n",
        "print(\"Validation Loss:\", lstm_history.history['val_loss'][-1])\n",
        "print(\"Training Mean Absolute Error:\", lstm_history.history['mae'][-1])\n",
        "print(\"Validation Mean Absolute Error:\", lstm_history.history['val_mae'][-1])"
      ],
      "metadata": {
        "id": "pLVVkURyI3BO",
        "outputId": "318db14c-74e4-414b-fa79-5c982c4b0f0b",
        "colab": {
          "base_uri": "https://localhost:8080/",
          "height": 1000
        }
      },
      "execution_count": 8,
      "outputs": [
        {
          "output_type": "stream",
          "name": "stdout",
          "text": [
            "Epoch 1/100\n"
          ]
        },
        {
          "output_type": "stream",
          "name": "stderr",
          "text": [
            "/usr/local/lib/python3.10/dist-packages/keras/src/layers/rnn/rnn.py:204: UserWarning: Do not pass an `input_shape`/`input_dim` argument to a layer. When using Sequential models, prefer using an `Input(shape)` object as the first layer in the model instead.\n",
            "  super().__init__(**kwargs)\n"
          ]
        },
        {
          "output_type": "stream",
          "name": "stdout",
          "text": [
            "\u001b[1m250/250\u001b[0m \u001b[32m━━━━━━━━━━━━━━━━━━━━\u001b[0m\u001b[37m\u001b[0m \u001b[1m7s\u001b[0m 15ms/step - loss: 0.2828 - mae: 0.4318 - mse: 0.2828 - val_loss: 0.1546 - val_mae: 0.3080 - val_mse: 0.1546\n",
            "Epoch 2/100\n",
            "\u001b[1m250/250\u001b[0m \u001b[32m━━━━━━━━━━━━━━━━━━━━\u001b[0m\u001b[37m\u001b[0m \u001b[1m3s\u001b[0m 11ms/step - loss: 0.1632 - mae: 0.3231 - mse: 0.1632 - val_loss: 0.1507 - val_mae: 0.3042 - val_mse: 0.1507\n",
            "Epoch 3/100\n",
            "\u001b[1m250/250\u001b[0m \u001b[32m━━━━━━━━━━━━━━━━━━━━\u001b[0m\u001b[37m\u001b[0m \u001b[1m2s\u001b[0m 9ms/step - loss: 0.1502 - mae: 0.2997 - mse: 0.1502 - val_loss: 0.1442 - val_mae: 0.3015 - val_mse: 0.1442\n",
            "Epoch 4/100\n",
            "\u001b[1m250/250\u001b[0m \u001b[32m━━━━━━━━━━━━━━━━━━━━\u001b[0m\u001b[37m\u001b[0m \u001b[1m2s\u001b[0m 9ms/step - loss: 0.1505 - mae: 0.3029 - mse: 0.1505 - val_loss: 0.1347 - val_mae: 0.2718 - val_mse: 0.1347\n",
            "Epoch 5/100\n",
            "\u001b[1m250/250\u001b[0m \u001b[32m━━━━━━━━━━━━━━━━━━━━\u001b[0m\u001b[37m\u001b[0m \u001b[1m4s\u001b[0m 13ms/step - loss: 0.1379 - mae: 0.2786 - mse: 0.1379 - val_loss: 0.1285 - val_mae: 0.2425 - val_mse: 0.1285\n",
            "Epoch 6/100\n",
            "\u001b[1m250/250\u001b[0m \u001b[32m━━━━━━━━━━━━━━━━━━━━\u001b[0m\u001b[37m\u001b[0m \u001b[1m4s\u001b[0m 15ms/step - loss: 0.1278 - mae: 0.2622 - mse: 0.1278 - val_loss: 0.1257 - val_mae: 0.2272 - val_mse: 0.1257\n",
            "Epoch 7/100\n",
            "\u001b[1m250/250\u001b[0m \u001b[32m━━━━━━━━━━━━━━━━━━━━\u001b[0m\u001b[37m\u001b[0m \u001b[1m2s\u001b[0m 10ms/step - loss: 0.1277 - mae: 0.2623 - mse: 0.1277 - val_loss: 0.1212 - val_mae: 0.2339 - val_mse: 0.1212\n",
            "Epoch 8/100\n",
            "\u001b[1m250/250\u001b[0m \u001b[32m━━━━━━━━━━━━━━━━━━━━\u001b[0m\u001b[37m\u001b[0m \u001b[1m2s\u001b[0m 9ms/step - loss: 0.1260 - mae: 0.2614 - mse: 0.1260 - val_loss: 0.1219 - val_mae: 0.2492 - val_mse: 0.1219\n",
            "Epoch 9/100\n",
            "\u001b[1m250/250\u001b[0m \u001b[32m━━━━━━━━━━━━━━━━━━━━\u001b[0m\u001b[37m\u001b[0m \u001b[1m2s\u001b[0m 9ms/step - loss: 0.1205 - mae: 0.2527 - mse: 0.1205 - val_loss: 0.1213 - val_mae: 0.2652 - val_mse: 0.1213\n",
            "Epoch 10/100\n",
            "\u001b[1m250/250\u001b[0m \u001b[32m━━━━━━━━━━━━━━━━━━━━\u001b[0m\u001b[37m\u001b[0m \u001b[1m2s\u001b[0m 9ms/step - loss: 0.1223 - mae: 0.2557 - mse: 0.1223 - val_loss: 0.1204 - val_mae: 0.2261 - val_mse: 0.1204\n",
            "Epoch 11/100\n",
            "\u001b[1m250/250\u001b[0m \u001b[32m━━━━━━━━━━━━━━━━━━━━\u001b[0m\u001b[37m\u001b[0m \u001b[1m3s\u001b[0m 12ms/step - loss: 0.1199 - mae: 0.2477 - mse: 0.1199 - val_loss: 0.1200 - val_mae: 0.2591 - val_mse: 0.1200\n",
            "Epoch 12/100\n",
            "\u001b[1m250/250\u001b[0m \u001b[32m━━━━━━━━━━━━━━━━━━━━\u001b[0m\u001b[37m\u001b[0m \u001b[1m3s\u001b[0m 12ms/step - loss: 0.1169 - mae: 0.2448 - mse: 0.1169 - val_loss: 0.1200 - val_mae: 0.2235 - val_mse: 0.1200\n",
            "Epoch 13/100\n",
            "\u001b[1m250/250\u001b[0m \u001b[32m━━━━━━━━━━━━━━━━━━━━\u001b[0m\u001b[37m\u001b[0m \u001b[1m2s\u001b[0m 9ms/step - loss: 0.1212 - mae: 0.2490 - mse: 0.1212 - val_loss: 0.1202 - val_mae: 0.2341 - val_mse: 0.1202\n",
            "Epoch 14/100\n",
            "\u001b[1m250/250\u001b[0m \u001b[32m━━━━━━━━━━━━━━━━━━━━\u001b[0m\u001b[37m\u001b[0m \u001b[1m2s\u001b[0m 9ms/step - loss: 0.1133 - mae: 0.2375 - mse: 0.1133 - val_loss: 0.1209 - val_mae: 0.2561 - val_mse: 0.1209\n",
            "Epoch 15/100\n",
            "\u001b[1m250/250\u001b[0m \u001b[32m━━━━━━━━━━━━━━━━━━━━\u001b[0m\u001b[37m\u001b[0m \u001b[1m3s\u001b[0m 9ms/step - loss: 0.1177 - mae: 0.2418 - mse: 0.1177 - val_loss: 0.1202 - val_mae: 0.2426 - val_mse: 0.1202\n",
            "Epoch 16/100\n",
            "\u001b[1m250/250\u001b[0m \u001b[32m━━━━━━━━━━━━━━━━━━━━\u001b[0m\u001b[37m\u001b[0m \u001b[1m3s\u001b[0m 10ms/step - loss: 0.1174 - mae: 0.2412 - mse: 0.1174 - val_loss: 0.1208 - val_mae: 0.2116 - val_mse: 0.1208\n",
            "Epoch 17/100\n",
            "\u001b[1m250/250\u001b[0m \u001b[32m━━━━━━━━━━━━━━━━━━━━\u001b[0m\u001b[37m\u001b[0m \u001b[1m4s\u001b[0m 14ms/step - loss: 0.1191 - mae: 0.2418 - mse: 0.1191 - val_loss: 0.1182 - val_mae: 0.2306 - val_mse: 0.1182\n",
            "Epoch 18/100\n",
            "\u001b[1m250/250\u001b[0m \u001b[32m━━━━━━━━━━━━━━━━━━━━\u001b[0m\u001b[37m\u001b[0m \u001b[1m2s\u001b[0m 10ms/step - loss: 0.1125 - mae: 0.2317 - mse: 0.1125 - val_loss: 0.1193 - val_mae: 0.2507 - val_mse: 0.1193\n",
            "Epoch 19/100\n",
            "\u001b[1m250/250\u001b[0m \u001b[32m━━━━━━━━━━━━━━━━━━━━\u001b[0m\u001b[37m\u001b[0m \u001b[1m2s\u001b[0m 9ms/step - loss: 0.1171 - mae: 0.2407 - mse: 0.1171 - val_loss: 0.1188 - val_mae: 0.2325 - val_mse: 0.1188\n",
            "Epoch 20/100\n",
            "\u001b[1m250/250\u001b[0m \u001b[32m━━━━━━━━━━━━━━━━━━━━\u001b[0m\u001b[37m\u001b[0m \u001b[1m3s\u001b[0m 10ms/step - loss: 0.1138 - mae: 0.2315 - mse: 0.1138 - val_loss: 0.1191 - val_mae: 0.2316 - val_mse: 0.1191\n",
            "Epoch 21/100\n",
            "\u001b[1m250/250\u001b[0m \u001b[32m━━━━━━━━━━━━━━━━━━━━\u001b[0m\u001b[37m\u001b[0m \u001b[1m2s\u001b[0m 9ms/step - loss: 0.1118 - mae: 0.2282 - mse: 0.1118 - val_loss: 0.1190 - val_mae: 0.2206 - val_mse: 0.1190\n",
            "Epoch 22/100\n",
            "\u001b[1m250/250\u001b[0m \u001b[32m━━━━━━━━━━━━━━━━━━━━\u001b[0m\u001b[37m\u001b[0m \u001b[1m4s\u001b[0m 15ms/step - loss: 0.1108 - mae: 0.2265 - mse: 0.1108 - val_loss: 0.1195 - val_mae: 0.2491 - val_mse: 0.1195\n",
            "Epoch 23/100\n",
            "\u001b[1m250/250\u001b[0m \u001b[32m━━━━━━━━━━━━━━━━━━━━\u001b[0m\u001b[37m\u001b[0m \u001b[1m2s\u001b[0m 9ms/step - loss: 0.1113 - mae: 0.2307 - mse: 0.1113 - val_loss: 0.1191 - val_mae: 0.2494 - val_mse: 0.1191\n",
            "Epoch 24/100\n",
            "\u001b[1m250/250\u001b[0m \u001b[32m━━━━━━━━━━━━━━━━━━━━\u001b[0m\u001b[37m\u001b[0m \u001b[1m2s\u001b[0m 9ms/step - loss: 0.1121 - mae: 0.2304 - mse: 0.1121 - val_loss: 0.1199 - val_mae: 0.2282 - val_mse: 0.1199\n",
            "Epoch 25/100\n",
            "\u001b[1m250/250\u001b[0m \u001b[32m━━━━━━━━━━━━━━━━━━━━\u001b[0m\u001b[37m\u001b[0m \u001b[1m2s\u001b[0m 9ms/step - loss: 0.1108 - mae: 0.2252 - mse: 0.1108 - val_loss: 0.1192 - val_mae: 0.2361 - val_mse: 0.1192\n",
            "Epoch 26/100\n",
            "\u001b[1m250/250\u001b[0m \u001b[32m━━━━━━━━━━━━━━━━━━━━\u001b[0m\u001b[37m\u001b[0m \u001b[1m2s\u001b[0m 9ms/step - loss: 0.1111 - mae: 0.2275 - mse: 0.1111 - val_loss: 0.1184 - val_mae: 0.2235 - val_mse: 0.1184\n",
            "Epoch 27/100\n",
            "\u001b[1m250/250\u001b[0m \u001b[32m━━━━━━━━━━━━━━━━━━━━\u001b[0m\u001b[37m\u001b[0m \u001b[1m3s\u001b[0m 13ms/step - loss: 0.1132 - mae: 0.2318 - mse: 0.1132 - val_loss: 0.1207 - val_mae: 0.2068 - val_mse: 0.1207\n",
            "Epoch 28/100\n",
            "\u001b[1m250/250\u001b[0m \u001b[32m━━━━━━━━━━━━━━━━━━━━\u001b[0m\u001b[37m\u001b[0m \u001b[1m3s\u001b[0m 10ms/step - loss: 0.1119 - mae: 0.2246 - mse: 0.1119 - val_loss: 0.1189 - val_mae: 0.2142 - val_mse: 0.1189\n",
            "Epoch 29/100\n",
            "\u001b[1m250/250\u001b[0m \u001b[32m━━━━━━━━━━━━━━━━━━━━\u001b[0m\u001b[37m\u001b[0m \u001b[1m2s\u001b[0m 9ms/step - loss: 0.1147 - mae: 0.2282 - mse: 0.1147 - val_loss: 0.1176 - val_mae: 0.2305 - val_mse: 0.1176\n",
            "Epoch 30/100\n",
            "\u001b[1m250/250\u001b[0m \u001b[32m━━━━━━━━━━━━━━━━━━━━\u001b[0m\u001b[37m\u001b[0m \u001b[1m2s\u001b[0m 9ms/step - loss: 0.1081 - mae: 0.2207 - mse: 0.1081 - val_loss: 0.1181 - val_mae: 0.2314 - val_mse: 0.1181\n",
            "Epoch 31/100\n",
            "\u001b[1m250/250\u001b[0m \u001b[32m━━━━━━━━━━━━━━━━━━━━\u001b[0m\u001b[37m\u001b[0m \u001b[1m2s\u001b[0m 9ms/step - loss: 0.1091 - mae: 0.2261 - mse: 0.1091 - val_loss: 0.1183 - val_mae: 0.2488 - val_mse: 0.1183\n",
            "Epoch 32/100\n",
            "\u001b[1m250/250\u001b[0m \u001b[32m━━━━━━━━━━━━━━━━━━━━\u001b[0m\u001b[37m\u001b[0m \u001b[1m3s\u001b[0m 11ms/step - loss: 0.1114 - mae: 0.2280 - mse: 0.1114 - val_loss: 0.1182 - val_mae: 0.2375 - val_mse: 0.1182\n",
            "Epoch 33/100\n",
            "\u001b[1m250/250\u001b[0m \u001b[32m━━━━━━━━━━━━━━━━━━━━\u001b[0m\u001b[37m\u001b[0m \u001b[1m5s\u001b[0m 10ms/step - loss: 0.1073 - mae: 0.2199 - mse: 0.1073 - val_loss: 0.1178 - val_mae: 0.2273 - val_mse: 0.1178\n",
            "Epoch 34/100\n",
            "\u001b[1m250/250\u001b[0m \u001b[32m━━━━━━━━━━━━━━━━━━━━\u001b[0m\u001b[37m\u001b[0m \u001b[1m2s\u001b[0m 10ms/step - loss: 0.1108 - mae: 0.2244 - mse: 0.1108 - val_loss: 0.1184 - val_mae: 0.2234 - val_mse: 0.1184\n",
            "Epoch 35/100\n",
            "\u001b[1m250/250\u001b[0m \u001b[32m━━━━━━━━━━━━━━━━━━━━\u001b[0m\u001b[37m\u001b[0m \u001b[1m3s\u001b[0m 10ms/step - loss: 0.1117 - mae: 0.2275 - mse: 0.1117 - val_loss: 0.1181 - val_mae: 0.2325 - val_mse: 0.1181\n",
            "Epoch 36/100\n",
            "\u001b[1m250/250\u001b[0m \u001b[32m━━━━━━━━━━━━━━━━━━━━\u001b[0m\u001b[37m\u001b[0m \u001b[1m3s\u001b[0m 13ms/step - loss: 0.1151 - mae: 0.2320 - mse: 0.1151 - val_loss: 0.1185 - val_mae: 0.2252 - val_mse: 0.1185\n",
            "Epoch 37/100\n",
            "\u001b[1m250/250\u001b[0m \u001b[32m━━━━━━━━━━━━━━━━━━━━\u001b[0m\u001b[37m\u001b[0m \u001b[1m4s\u001b[0m 14ms/step - loss: 0.1094 - mae: 0.2220 - mse: 0.1094 - val_loss: 0.1178 - val_mae: 0.2310 - val_mse: 0.1178\n",
            "Epoch 38/100\n",
            "\u001b[1m250/250\u001b[0m \u001b[32m━━━━━━━━━━━━━━━━━━━━\u001b[0m\u001b[37m\u001b[0m \u001b[1m4s\u001b[0m 9ms/step - loss: 0.1097 - mae: 0.2243 - mse: 0.1097 - val_loss: 0.1183 - val_mae: 0.2240 - val_mse: 0.1183\n",
            "Epoch 39/100\n",
            "\u001b[1m250/250\u001b[0m \u001b[32m━━━━━━━━━━━━━━━━━━━━\u001b[0m\u001b[37m\u001b[0m \u001b[1m3s\u001b[0m 9ms/step - loss: 0.1114 - mae: 0.2238 - mse: 0.1114 - val_loss: 0.1184 - val_mae: 0.2330 - val_mse: 0.1184\n",
            "Epoch 40/100\n",
            "\u001b[1m250/250\u001b[0m \u001b[32m━━━━━━━━━━━━━━━━━━━━\u001b[0m\u001b[37m\u001b[0m \u001b[1m3s\u001b[0m 9ms/step - loss: 0.1089 - mae: 0.2240 - mse: 0.1089 - val_loss: 0.1180 - val_mae: 0.2326 - val_mse: 0.1180\n",
            "Epoch 41/100\n",
            "\u001b[1m250/250\u001b[0m \u001b[32m━━━━━━━━━━━━━━━━━━━━\u001b[0m\u001b[37m\u001b[0m \u001b[1m4s\u001b[0m 14ms/step - loss: 0.1083 - mae: 0.2192 - mse: 0.1083 - val_loss: 0.1182 - val_mae: 0.2381 - val_mse: 0.1182\n",
            "Epoch 42/100\n",
            "\u001b[1m250/250\u001b[0m \u001b[32m━━━━━━━━━━━━━━━━━━━━\u001b[0m\u001b[37m\u001b[0m \u001b[1m2s\u001b[0m 9ms/step - loss: 0.1080 - mae: 0.2223 - mse: 0.1080 - val_loss: 0.1198 - val_mae: 0.2331 - val_mse: 0.1198\n",
            "Epoch 43/100\n",
            "\u001b[1m250/250\u001b[0m \u001b[32m━━━━━━━━━━━━━━━━━━━━\u001b[0m\u001b[37m\u001b[0m \u001b[1m2s\u001b[0m 9ms/step - loss: 0.1118 - mae: 0.2264 - mse: 0.1118 - val_loss: 0.1194 - val_mae: 0.2311 - val_mse: 0.1194\n",
            "Epoch 44/100\n",
            "\u001b[1m250/250\u001b[0m \u001b[32m━━━━━━━━━━━━━━━━━━━━\u001b[0m\u001b[37m\u001b[0m \u001b[1m2s\u001b[0m 9ms/step - loss: 0.1087 - mae: 0.2203 - mse: 0.1087 - val_loss: 0.1185 - val_mae: 0.2254 - val_mse: 0.1185\n",
            "Epoch 45/100\n",
            "\u001b[1m250/250\u001b[0m \u001b[32m━━━━━━━━━━━━━━━━━━━━\u001b[0m\u001b[37m\u001b[0m \u001b[1m2s\u001b[0m 9ms/step - loss: 0.1152 - mae: 0.2307 - mse: 0.1152 - val_loss: 0.1183 - val_mae: 0.2236 - val_mse: 0.1183\n",
            "Epoch 46/100\n",
            "\u001b[1m250/250\u001b[0m \u001b[32m━━━━━━━━━━━━━━━━━━━━\u001b[0m\u001b[37m\u001b[0m \u001b[1m3s\u001b[0m 13ms/step - loss: 0.1081 - mae: 0.2197 - mse: 0.1081 - val_loss: 0.1199 - val_mae: 0.2140 - val_mse: 0.1199\n",
            "Epoch 47/100\n",
            "\u001b[1m250/250\u001b[0m \u001b[32m━━━━━━━━━━━━━━━━━━━━\u001b[0m\u001b[37m\u001b[0m \u001b[1m3s\u001b[0m 11ms/step - loss: 0.1088 - mae: 0.2185 - mse: 0.1088 - val_loss: 0.1184 - val_mae: 0.2212 - val_mse: 0.1184\n",
            "Epoch 48/100\n",
            "\u001b[1m250/250\u001b[0m \u001b[32m━━━━━━━━━━━━━━━━━━━━\u001b[0m\u001b[37m\u001b[0m \u001b[1m2s\u001b[0m 10ms/step - loss: 0.1069 - mae: 0.2148 - mse: 0.1069 - val_loss: 0.1182 - val_mae: 0.2262 - val_mse: 0.1182\n",
            "Epoch 49/100\n",
            "\u001b[1m250/250\u001b[0m \u001b[32m━━━━━━━━━━━━━━━━━━━━\u001b[0m\u001b[37m\u001b[0m \u001b[1m2s\u001b[0m 9ms/step - loss: 0.1058 - mae: 0.2174 - mse: 0.1058 - val_loss: 0.1176 - val_mae: 0.2320 - val_mse: 0.1176\n",
            "Epoch 50/100\n",
            "\u001b[1m250/250\u001b[0m \u001b[32m━━━━━━━━━━━━━━━━━━━━\u001b[0m\u001b[37m\u001b[0m \u001b[1m2s\u001b[0m 9ms/step - loss: 0.1059 - mae: 0.2173 - mse: 0.1059 - val_loss: 0.1182 - val_mae: 0.2332 - val_mse: 0.1182\n",
            "Epoch 51/100\n",
            "\u001b[1m250/250\u001b[0m \u001b[32m━━━━━━━━━━━━━━━━━━━━\u001b[0m\u001b[37m\u001b[0m \u001b[1m3s\u001b[0m 11ms/step - loss: 0.1086 - mae: 0.2208 - mse: 0.1086 - val_loss: 0.1182 - val_mae: 0.2215 - val_mse: 0.1182\n",
            "Epoch 52/100\n",
            "\u001b[1m250/250\u001b[0m \u001b[32m━━━━━━━━━━━━━━━━━━━━\u001b[0m\u001b[37m\u001b[0m \u001b[1m5s\u001b[0m 9ms/step - loss: 0.1015 - mae: 0.2073 - mse: 0.1015 - val_loss: 0.1180 - val_mae: 0.2341 - val_mse: 0.1180\n",
            "Epoch 53/100\n",
            "\u001b[1m250/250\u001b[0m \u001b[32m━━━━━━━━━━━━━━━━━━━━\u001b[0m\u001b[37m\u001b[0m \u001b[1m3s\u001b[0m 9ms/step - loss: 0.1067 - mae: 0.2187 - mse: 0.1067 - val_loss: 0.1190 - val_mae: 0.2270 - val_mse: 0.1190\n",
            "Epoch 54/100\n",
            "\u001b[1m250/250\u001b[0m \u001b[32m━━━━━━━━━━━━━━━━━━━━\u001b[0m\u001b[37m\u001b[0m \u001b[1m3s\u001b[0m 10ms/step - loss: 0.1084 - mae: 0.2196 - mse: 0.1084 - val_loss: 0.1188 - val_mae: 0.2238 - val_mse: 0.1188\n",
            "Epoch 55/100\n",
            "\u001b[1m250/250\u001b[0m \u001b[32m━━━━━━━━━━━━━━━━━━━━\u001b[0m\u001b[37m\u001b[0m \u001b[1m3s\u001b[0m 12ms/step - loss: 0.1067 - mae: 0.2177 - mse: 0.1067 - val_loss: 0.1214 - val_mae: 0.2159 - val_mse: 0.1214\n",
            "Epoch 56/100\n",
            "\u001b[1m250/250\u001b[0m \u001b[32m━━━━━━━━━━━━━━━━━━━━\u001b[0m\u001b[37m\u001b[0m \u001b[1m3s\u001b[0m 13ms/step - loss: 0.1042 - mae: 0.2101 - mse: 0.1042 - val_loss: 0.1183 - val_mae: 0.2243 - val_mse: 0.1183\n",
            "Epoch 57/100\n",
            "\u001b[1m250/250\u001b[0m \u001b[32m━━━━━━━━━━━━━━━━━━━━\u001b[0m\u001b[37m\u001b[0m \u001b[1m4s\u001b[0m 9ms/step - loss: 0.1109 - mae: 0.2240 - mse: 0.1109 - val_loss: 0.1183 - val_mae: 0.2246 - val_mse: 0.1183\n",
            "Epoch 58/100\n",
            "\u001b[1m250/250\u001b[0m \u001b[32m━━━━━━━━━━━━━━━━━━━━\u001b[0m\u001b[37m\u001b[0m \u001b[1m3s\u001b[0m 9ms/step - loss: 0.1028 - mae: 0.2098 - mse: 0.1028 - val_loss: 0.1191 - val_mae: 0.2256 - val_mse: 0.1191\n",
            "Epoch 59/100\n",
            "\u001b[1m250/250\u001b[0m \u001b[32m━━━━━━━━━━━━━━━━━━━━\u001b[0m\u001b[37m\u001b[0m \u001b[1m3s\u001b[0m 10ms/step - loss: 0.1110 - mae: 0.2216 - mse: 0.1110 - val_loss: 0.1212 - val_mae: 0.2163 - val_mse: 0.1212\n",
            "Epoch 60/100\n",
            "\u001b[1m250/250\u001b[0m \u001b[32m━━━━━━━━━━━━━━━━━━━━\u001b[0m\u001b[37m\u001b[0m \u001b[1m4s\u001b[0m 14ms/step - loss: 0.1134 - mae: 0.2244 - mse: 0.1134 - val_loss: 0.1192 - val_mae: 0.2176 - val_mse: 0.1192\n",
            "Epoch 61/100\n",
            "\u001b[1m250/250\u001b[0m \u001b[32m━━━━━━━━━━━━━━━━━━━━\u001b[0m\u001b[37m\u001b[0m \u001b[1m4s\u001b[0m 9ms/step - loss: 0.1099 - mae: 0.2219 - mse: 0.1099 - val_loss: 0.1195 - val_mae: 0.2207 - val_mse: 0.1195\n",
            "Epoch 62/100\n",
            "\u001b[1m250/250\u001b[0m \u001b[32m━━━━━━━━━━━━━━━━━━━━\u001b[0m\u001b[37m\u001b[0m \u001b[1m2s\u001b[0m 9ms/step - loss: 0.1051 - mae: 0.2130 - mse: 0.1051 - val_loss: 0.1183 - val_mae: 0.2263 - val_mse: 0.1183\n",
            "Epoch 63/100\n",
            "\u001b[1m250/250\u001b[0m \u001b[32m━━━━━━━━━━━━━━━━━━━━\u001b[0m\u001b[37m\u001b[0m \u001b[1m3s\u001b[0m 10ms/step - loss: 0.1079 - mae: 0.2185 - mse: 0.1079 - val_loss: 0.1195 - val_mae: 0.2147 - val_mse: 0.1195\n",
            "Epoch 64/100\n",
            "\u001b[1m250/250\u001b[0m \u001b[32m━━━━━━━━━━━━━━━━━━━━\u001b[0m\u001b[37m\u001b[0m \u001b[1m3s\u001b[0m 12ms/step - loss: 0.1061 - mae: 0.2136 - mse: 0.1061 - val_loss: 0.1201 - val_mae: 0.2135 - val_mse: 0.1201\n",
            "Epoch 65/100\n",
            "\u001b[1m250/250\u001b[0m \u001b[32m━━━━━━━━━━━━━━━━━━━━\u001b[0m\u001b[37m\u001b[0m \u001b[1m3s\u001b[0m 13ms/step - loss: 0.1081 - mae: 0.2168 - mse: 0.1081 - val_loss: 0.1212 - val_mae: 0.2216 - val_mse: 0.1212\n",
            "Epoch 66/100\n",
            "\u001b[1m250/250\u001b[0m \u001b[32m━━━━━━━━━━━━━━━━━━━━\u001b[0m\u001b[37m\u001b[0m \u001b[1m2s\u001b[0m 9ms/step - loss: 0.1062 - mae: 0.2169 - mse: 0.1062 - val_loss: 0.1183 - val_mae: 0.2360 - val_mse: 0.1183\n",
            "Epoch 67/100\n",
            "\u001b[1m250/250\u001b[0m \u001b[32m━━━━━━━━━━━━━━━━━━━━\u001b[0m\u001b[37m\u001b[0m \u001b[1m2s\u001b[0m 9ms/step - loss: 0.1066 - mae: 0.2176 - mse: 0.1066 - val_loss: 0.1181 - val_mae: 0.2367 - val_mse: 0.1181\n",
            "Epoch 68/100\n",
            "\u001b[1m250/250\u001b[0m \u001b[32m━━━━━━━━━━━━━━━━━━━━\u001b[0m\u001b[37m\u001b[0m \u001b[1m3s\u001b[0m 9ms/step - loss: 0.1056 - mae: 0.2155 - mse: 0.1056 - val_loss: 0.1198 - val_mae: 0.2303 - val_mse: 0.1198\n",
            "Epoch 69/100\n",
            "\u001b[1m250/250\u001b[0m \u001b[32m━━━━━━━━━━━━━━━━━━━━\u001b[0m\u001b[37m\u001b[0m \u001b[1m2s\u001b[0m 10ms/step - loss: 0.1043 - mae: 0.2155 - mse: 0.1043 - val_loss: 0.1185 - val_mae: 0.2308 - val_mse: 0.1185\n",
            "Epoch 70/100\n",
            "\u001b[1m250/250\u001b[0m \u001b[32m━━━━━━━━━━━━━━━━━━━━\u001b[0m\u001b[37m\u001b[0m \u001b[1m3s\u001b[0m 13ms/step - loss: 0.1091 - mae: 0.2231 - mse: 0.1091 - val_loss: 0.1183 - val_mae: 0.2266 - val_mse: 0.1183\n",
            "Epoch 71/100\n",
            "\u001b[1m250/250\u001b[0m \u001b[32m━━━━━━━━━━━━━━━━━━━━\u001b[0m\u001b[37m\u001b[0m \u001b[1m2s\u001b[0m 9ms/step - loss: 0.1091 - mae: 0.2212 - mse: 0.1091 - val_loss: 0.1197 - val_mae: 0.2258 - val_mse: 0.1197\n",
            "Epoch 72/100\n",
            "\u001b[1m250/250\u001b[0m \u001b[32m━━━━━━━━━━━━━━━━━━━━\u001b[0m\u001b[37m\u001b[0m \u001b[1m2s\u001b[0m 9ms/step - loss: 0.1084 - mae: 0.2178 - mse: 0.1084 - val_loss: 0.1195 - val_mae: 0.2169 - val_mse: 0.1195\n",
            "Epoch 73/100\n",
            "\u001b[1m250/250\u001b[0m \u001b[32m━━━━━━━━━━━━━━━━━━━━\u001b[0m\u001b[37m\u001b[0m \u001b[1m2s\u001b[0m 9ms/step - loss: 0.1135 - mae: 0.2268 - mse: 0.1135 - val_loss: 0.1195 - val_mae: 0.2270 - val_mse: 0.1195\n",
            "Epoch 74/100\n",
            "\u001b[1m250/250\u001b[0m \u001b[32m━━━━━━━━━━━━━━━━━━━━\u001b[0m\u001b[37m\u001b[0m \u001b[1m3s\u001b[0m 9ms/step - loss: 0.1078 - mae: 0.2172 - mse: 0.1078 - val_loss: 0.1199 - val_mae: 0.2166 - val_mse: 0.1199\n",
            "Epoch 75/100\n",
            "\u001b[1m250/250\u001b[0m \u001b[32m━━━━━━━━━━━━━━━━━━━━\u001b[0m\u001b[37m\u001b[0m \u001b[1m3s\u001b[0m 13ms/step - loss: 0.1089 - mae: 0.2182 - mse: 0.1089 - val_loss: 0.1210 - val_mae: 0.2205 - val_mse: 0.1210\n",
            "Epoch 76/100\n",
            "\u001b[1m250/250\u001b[0m \u001b[32m━━━━━━━━━━━━━━━━━━━━\u001b[0m\u001b[37m\u001b[0m \u001b[1m3s\u001b[0m 11ms/step - loss: 0.1073 - mae: 0.2149 - mse: 0.1073 - val_loss: 0.1200 - val_mae: 0.2281 - val_mse: 0.1200\n",
            "Epoch 77/100\n",
            "\u001b[1m250/250\u001b[0m \u001b[32m━━━━━━━━━━━━━━━━━━━━\u001b[0m\u001b[37m\u001b[0m \u001b[1m2s\u001b[0m 9ms/step - loss: 0.1081 - mae: 0.2194 - mse: 0.1081 - val_loss: 0.1194 - val_mae: 0.2308 - val_mse: 0.1194\n",
            "Epoch 78/100\n",
            "\u001b[1m250/250\u001b[0m \u001b[32m━━━━━━━━━━━━━━━━━━━━\u001b[0m\u001b[37m\u001b[0m \u001b[1m3s\u001b[0m 9ms/step - loss: 0.1089 - mae: 0.2201 - mse: 0.1089 - val_loss: 0.1201 - val_mae: 0.2212 - val_mse: 0.1201\n",
            "Epoch 79/100\n",
            "\u001b[1m250/250\u001b[0m \u001b[32m━━━━━━━━━━━━━━━━━━━━\u001b[0m\u001b[37m\u001b[0m \u001b[1m3s\u001b[0m 9ms/step - loss: 0.1047 - mae: 0.2113 - mse: 0.1047 - val_loss: 0.1209 - val_mae: 0.2259 - val_mse: 0.1209\n",
            "Epoch 80/100\n",
            "\u001b[1m250/250\u001b[0m \u001b[32m━━━━━━━━━━━━━━━━━━━━\u001b[0m\u001b[37m\u001b[0m \u001b[1m3s\u001b[0m 12ms/step - loss: 0.1053 - mae: 0.2142 - mse: 0.1053 - val_loss: 0.1200 - val_mae: 0.2236 - val_mse: 0.1200\n",
            "Epoch 81/100\n",
            "\u001b[1m250/250\u001b[0m \u001b[32m━━━━━━━━━━━━━━━━━━━━\u001b[0m\u001b[37m\u001b[0m \u001b[1m4s\u001b[0m 9ms/step - loss: 0.1010 - mae: 0.2064 - mse: 0.1010 - val_loss: 0.1195 - val_mae: 0.2269 - val_mse: 0.1195\n",
            "Epoch 82/100\n",
            "\u001b[1m250/250\u001b[0m \u001b[32m━━━━━━━━━━━━━━━━━━━━\u001b[0m\u001b[37m\u001b[0m \u001b[1m2s\u001b[0m 9ms/step - loss: 0.1044 - mae: 0.2129 - mse: 0.1044 - val_loss: 0.1193 - val_mae: 0.2306 - val_mse: 0.1193\n",
            "Epoch 83/100\n",
            "\u001b[1m250/250\u001b[0m \u001b[32m━━━━━━━━━━━━━━━━━━━━\u001b[0m\u001b[37m\u001b[0m \u001b[1m2s\u001b[0m 9ms/step - loss: 0.1049 - mae: 0.2153 - mse: 0.1049 - val_loss: 0.1199 - val_mae: 0.2303 - val_mse: 0.1199\n",
            "Epoch 84/100\n",
            "\u001b[1m250/250\u001b[0m \u001b[32m━━━━━━━━━━━━━━━━━━━━\u001b[0m\u001b[37m\u001b[0m \u001b[1m3s\u001b[0m 11ms/step - loss: 0.1047 - mae: 0.2137 - mse: 0.1047 - val_loss: 0.1206 - val_mae: 0.2124 - val_mse: 0.1206\n",
            "Epoch 85/100\n",
            "\u001b[1m250/250\u001b[0m \u001b[32m━━━━━━━━━━━━━━━━━━━━\u001b[0m\u001b[37m\u001b[0m \u001b[1m5s\u001b[0m 9ms/step - loss: 0.1047 - mae: 0.2103 - mse: 0.1047 - val_loss: 0.1200 - val_mae: 0.2374 - val_mse: 0.1200\n",
            "Epoch 86/100\n",
            "\u001b[1m250/250\u001b[0m \u001b[32m━━━━━━━━━━━━━━━━━━━━\u001b[0m\u001b[37m\u001b[0m \u001b[1m2s\u001b[0m 9ms/step - loss: 0.1073 - mae: 0.2195 - mse: 0.1073 - val_loss: 0.1202 - val_mae: 0.2259 - val_mse: 0.1202\n",
            "Epoch 87/100\n",
            "\u001b[1m250/250\u001b[0m \u001b[32m━━━━━━━━━━━━━━━━━━━━\u001b[0m\u001b[37m\u001b[0m \u001b[1m2s\u001b[0m 9ms/step - loss: 0.1073 - mae: 0.2170 - mse: 0.1073 - val_loss: 0.1196 - val_mae: 0.2272 - val_mse: 0.1196\n",
            "Epoch 88/100\n",
            "\u001b[1m250/250\u001b[0m \u001b[32m━━━━━━━━━━━━━━━━━━━━\u001b[0m\u001b[37m\u001b[0m \u001b[1m3s\u001b[0m 10ms/step - loss: 0.1042 - mae: 0.2126 - mse: 0.1042 - val_loss: 0.1204 - val_mae: 0.2249 - val_mse: 0.1204\n",
            "Epoch 89/100\n",
            "\u001b[1m250/250\u001b[0m \u001b[32m━━━━━━━━━━━━━━━━━━━━\u001b[0m\u001b[37m\u001b[0m \u001b[1m4s\u001b[0m 14ms/step - loss: 0.1074 - mae: 0.2179 - mse: 0.1074 - val_loss: 0.1203 - val_mae: 0.2233 - val_mse: 0.1203\n",
            "Epoch 90/100\n",
            "\u001b[1m250/250\u001b[0m \u001b[32m━━━━━━━━━━━━━━━━━━━━\u001b[0m\u001b[37m\u001b[0m \u001b[1m4s\u001b[0m 9ms/step - loss: 0.1051 - mae: 0.2145 - mse: 0.1051 - val_loss: 0.1202 - val_mae: 0.2282 - val_mse: 0.1202\n",
            "Epoch 91/100\n",
            "\u001b[1m250/250\u001b[0m \u001b[32m━━━━━━━━━━━━━━━━━━━━\u001b[0m\u001b[37m\u001b[0m \u001b[1m2s\u001b[0m 9ms/step - loss: 0.1039 - mae: 0.2109 - mse: 0.1039 - val_loss: 0.1199 - val_mae: 0.2324 - val_mse: 0.1199\n",
            "Epoch 92/100\n",
            "\u001b[1m250/250\u001b[0m \u001b[32m━━━━━━━━━━━━━━━━━━━━\u001b[0m\u001b[37m\u001b[0m \u001b[1m3s\u001b[0m 9ms/step - loss: 0.1064 - mae: 0.2169 - mse: 0.1064 - val_loss: 0.1203 - val_mae: 0.2227 - val_mse: 0.1203\n",
            "Epoch 93/100\n",
            "\u001b[1m250/250\u001b[0m \u001b[32m━━━━━━━━━━━━━━━━━━━━\u001b[0m\u001b[37m\u001b[0m \u001b[1m3s\u001b[0m 12ms/step - loss: 0.1058 - mae: 0.2149 - mse: 0.1058 - val_loss: 0.1193 - val_mae: 0.2307 - val_mse: 0.1193\n",
            "Epoch 94/100\n",
            "\u001b[1m250/250\u001b[0m \u001b[32m━━━━━━━━━━━━━━━━━━━━\u001b[0m\u001b[37m\u001b[0m \u001b[1m3s\u001b[0m 13ms/step - loss: 0.1065 - mae: 0.2160 - mse: 0.1065 - val_loss: 0.1203 - val_mae: 0.2234 - val_mse: 0.1203\n",
            "Epoch 95/100\n",
            "\u001b[1m250/250\u001b[0m \u001b[32m━━━━━━━━━━━━━━━━━━━━\u001b[0m\u001b[37m\u001b[0m \u001b[1m4s\u001b[0m 9ms/step - loss: 0.1059 - mae: 0.2148 - mse: 0.1059 - val_loss: 0.1215 - val_mae: 0.2336 - val_mse: 0.1215\n",
            "Epoch 96/100\n",
            "\u001b[1m250/250\u001b[0m \u001b[32m━━━━━━━━━━━━━━━━━━━━\u001b[0m\u001b[37m\u001b[0m \u001b[1m2s\u001b[0m 9ms/step - loss: 0.1020 - mae: 0.2091 - mse: 0.1020 - val_loss: 0.1202 - val_mae: 0.2266 - val_mse: 0.1202\n",
            "Epoch 97/100\n",
            "\u001b[1m250/250\u001b[0m \u001b[32m━━━━━━━━━━━━━━━━━━━━\u001b[0m\u001b[37m\u001b[0m \u001b[1m3s\u001b[0m 9ms/step - loss: 0.1043 - mae: 0.2129 - mse: 0.1043 - val_loss: 0.1203 - val_mae: 0.2307 - val_mse: 0.1203\n",
            "Epoch 98/100\n",
            "\u001b[1m250/250\u001b[0m \u001b[32m━━━━━━━━━━━━━━━━━━━━\u001b[0m\u001b[37m\u001b[0m \u001b[1m3s\u001b[0m 14ms/step - loss: 0.1000 - mae: 0.2068 - mse: 0.1000 - val_loss: 0.1192 - val_mae: 0.2349 - val_mse: 0.1192\n",
            "Epoch 99/100\n",
            "\u001b[1m250/250\u001b[0m \u001b[32m━━━━━━━━━━━━━━━━━━━━\u001b[0m\u001b[37m\u001b[0m \u001b[1m2s\u001b[0m 10ms/step - loss: 0.1058 - mae: 0.2154 - mse: 0.1058 - val_loss: 0.1203 - val_mae: 0.2320 - val_mse: 0.1203\n",
            "Epoch 100/100\n",
            "\u001b[1m250/250\u001b[0m \u001b[32m━━━━━━━━━━━━━━━━━━━━\u001b[0m\u001b[37m\u001b[0m \u001b[1m2s\u001b[0m 10ms/step - loss: 0.1050 - mae: 0.2147 - mse: 0.1050 - val_loss: 0.1208 - val_mae: 0.2272 - val_mse: 0.1208\n"
          ]
        },
        {
          "output_type": "display_data",
          "data": {
            "text/plain": [
              "\u001b[1mModel: \"sequential\"\u001b[0m\n"
            ],
            "text/html": [
              "<pre style=\"white-space:pre;overflow-x:auto;line-height:normal;font-family:Menlo,'DejaVu Sans Mono',consolas,'Courier New',monospace\"><span style=\"font-weight: bold\">Model: \"sequential\"</span>\n",
              "</pre>\n"
            ]
          },
          "metadata": {}
        },
        {
          "output_type": "display_data",
          "data": {
            "text/plain": [
              "┏━━━━━━━━━━━━━━━━━━━━━━━━━━━━━━━━━━━━━━┳━━━━━━━━━━━━━━━━━━━━━━━━━━━━━┳━━━━━━━━━━━━━━━━━┓\n",
              "┃\u001b[1m \u001b[0m\u001b[1mLayer (type)                        \u001b[0m\u001b[1m \u001b[0m┃\u001b[1m \u001b[0m\u001b[1mOutput Shape               \u001b[0m\u001b[1m \u001b[0m┃\u001b[1m \u001b[0m\u001b[1m        Param #\u001b[0m\u001b[1m \u001b[0m┃\n",
              "┡━━━━━━━━━━━━━━━━━━━━━━━━━━━━━━━━━━━━━━╇━━━━━━━━━━━━━━━━━━━━━━━━━━━━━╇━━━━━━━━━━━━━━━━━┩\n",
              "│ lstm (\u001b[38;5;33mLSTM\u001b[0m)                          │ (\u001b[38;5;45mNone\u001b[0m, \u001b[38;5;34m7\u001b[0m, \u001b[38;5;34m64\u001b[0m)               │          \u001b[38;5;34m16,896\u001b[0m │\n",
              "├──────────────────────────────────────┼─────────────────────────────┼─────────────────┤\n",
              "│ dropout (\u001b[38;5;33mDropout\u001b[0m)                    │ (\u001b[38;5;45mNone\u001b[0m, \u001b[38;5;34m7\u001b[0m, \u001b[38;5;34m64\u001b[0m)               │               \u001b[38;5;34m0\u001b[0m │\n",
              "├──────────────────────────────────────┼─────────────────────────────┼─────────────────┤\n",
              "│ lstm_1 (\u001b[38;5;33mLSTM\u001b[0m)                        │ (\u001b[38;5;45mNone\u001b[0m, \u001b[38;5;34m32\u001b[0m)                  │          \u001b[38;5;34m12,416\u001b[0m │\n",
              "├──────────────────────────────────────┼─────────────────────────────┼─────────────────┤\n",
              "│ dropout_1 (\u001b[38;5;33mDropout\u001b[0m)                  │ (\u001b[38;5;45mNone\u001b[0m, \u001b[38;5;34m32\u001b[0m)                  │               \u001b[38;5;34m0\u001b[0m │\n",
              "├──────────────────────────────────────┼─────────────────────────────┼─────────────────┤\n",
              "│ dense (\u001b[38;5;33mDense\u001b[0m)                        │ (\u001b[38;5;45mNone\u001b[0m, \u001b[38;5;34m1\u001b[0m)                   │              \u001b[38;5;34m33\u001b[0m │\n",
              "└──────────────────────────────────────┴─────────────────────────────┴─────────────────┘\n"
            ],
            "text/html": [
              "<pre style=\"white-space:pre;overflow-x:auto;line-height:normal;font-family:Menlo,'DejaVu Sans Mono',consolas,'Courier New',monospace\">┏━━━━━━━━━━━━━━━━━━━━━━━━━━━━━━━━━━━━━━┳━━━━━━━━━━━━━━━━━━━━━━━━━━━━━┳━━━━━━━━━━━━━━━━━┓\n",
              "┃<span style=\"font-weight: bold\"> Layer (type)                         </span>┃<span style=\"font-weight: bold\"> Output Shape                </span>┃<span style=\"font-weight: bold\">         Param # </span>┃\n",
              "┡━━━━━━━━━━━━━━━━━━━━━━━━━━━━━━━━━━━━━━╇━━━━━━━━━━━━━━━━━━━━━━━━━━━━━╇━━━━━━━━━━━━━━━━━┩\n",
              "│ lstm (<span style=\"color: #0087ff; text-decoration-color: #0087ff\">LSTM</span>)                          │ (<span style=\"color: #00d7ff; text-decoration-color: #00d7ff\">None</span>, <span style=\"color: #00af00; text-decoration-color: #00af00\">7</span>, <span style=\"color: #00af00; text-decoration-color: #00af00\">64</span>)               │          <span style=\"color: #00af00; text-decoration-color: #00af00\">16,896</span> │\n",
              "├──────────────────────────────────────┼─────────────────────────────┼─────────────────┤\n",
              "│ dropout (<span style=\"color: #0087ff; text-decoration-color: #0087ff\">Dropout</span>)                    │ (<span style=\"color: #00d7ff; text-decoration-color: #00d7ff\">None</span>, <span style=\"color: #00af00; text-decoration-color: #00af00\">7</span>, <span style=\"color: #00af00; text-decoration-color: #00af00\">64</span>)               │               <span style=\"color: #00af00; text-decoration-color: #00af00\">0</span> │\n",
              "├──────────────────────────────────────┼─────────────────────────────┼─────────────────┤\n",
              "│ lstm_1 (<span style=\"color: #0087ff; text-decoration-color: #0087ff\">LSTM</span>)                        │ (<span style=\"color: #00d7ff; text-decoration-color: #00d7ff\">None</span>, <span style=\"color: #00af00; text-decoration-color: #00af00\">32</span>)                  │          <span style=\"color: #00af00; text-decoration-color: #00af00\">12,416</span> │\n",
              "├──────────────────────────────────────┼─────────────────────────────┼─────────────────┤\n",
              "│ dropout_1 (<span style=\"color: #0087ff; text-decoration-color: #0087ff\">Dropout</span>)                  │ (<span style=\"color: #00d7ff; text-decoration-color: #00d7ff\">None</span>, <span style=\"color: #00af00; text-decoration-color: #00af00\">32</span>)                  │               <span style=\"color: #00af00; text-decoration-color: #00af00\">0</span> │\n",
              "├──────────────────────────────────────┼─────────────────────────────┼─────────────────┤\n",
              "│ dense (<span style=\"color: #0087ff; text-decoration-color: #0087ff\">Dense</span>)                        │ (<span style=\"color: #00d7ff; text-decoration-color: #00d7ff\">None</span>, <span style=\"color: #00af00; text-decoration-color: #00af00\">1</span>)                   │              <span style=\"color: #00af00; text-decoration-color: #00af00\">33</span> │\n",
              "└──────────────────────────────────────┴─────────────────────────────┴─────────────────┘\n",
              "</pre>\n"
            ]
          },
          "metadata": {}
        },
        {
          "output_type": "display_data",
          "data": {
            "text/plain": [
              "\u001b[1m Total params: \u001b[0m\u001b[38;5;34m88,037\u001b[0m (343.90 KB)\n"
            ],
            "text/html": [
              "<pre style=\"white-space:pre;overflow-x:auto;line-height:normal;font-family:Menlo,'DejaVu Sans Mono',consolas,'Courier New',monospace\"><span style=\"font-weight: bold\"> Total params: </span><span style=\"color: #00af00; text-decoration-color: #00af00\">88,037</span> (343.90 KB)\n",
              "</pre>\n"
            ]
          },
          "metadata": {}
        },
        {
          "output_type": "display_data",
          "data": {
            "text/plain": [
              "\u001b[1m Trainable params: \u001b[0m\u001b[38;5;34m29,345\u001b[0m (114.63 KB)\n"
            ],
            "text/html": [
              "<pre style=\"white-space:pre;overflow-x:auto;line-height:normal;font-family:Menlo,'DejaVu Sans Mono',consolas,'Courier New',monospace\"><span style=\"font-weight: bold\"> Trainable params: </span><span style=\"color: #00af00; text-decoration-color: #00af00\">29,345</span> (114.63 KB)\n",
              "</pre>\n"
            ]
          },
          "metadata": {}
        },
        {
          "output_type": "display_data",
          "data": {
            "text/plain": [
              "\u001b[1m Non-trainable params: \u001b[0m\u001b[38;5;34m0\u001b[0m (0.00 B)\n"
            ],
            "text/html": [
              "<pre style=\"white-space:pre;overflow-x:auto;line-height:normal;font-family:Menlo,'DejaVu Sans Mono',consolas,'Courier New',monospace\"><span style=\"font-weight: bold\"> Non-trainable params: </span><span style=\"color: #00af00; text-decoration-color: #00af00\">0</span> (0.00 B)\n",
              "</pre>\n"
            ]
          },
          "metadata": {}
        },
        {
          "output_type": "display_data",
          "data": {
            "text/plain": [
              "\u001b[1m Optimizer params: \u001b[0m\u001b[38;5;34m58,692\u001b[0m (229.27 KB)\n"
            ],
            "text/html": [
              "<pre style=\"white-space:pre;overflow-x:auto;line-height:normal;font-family:Menlo,'DejaVu Sans Mono',consolas,'Courier New',monospace\"><span style=\"font-weight: bold\"> Optimizer params: </span><span style=\"color: #00af00; text-decoration-color: #00af00\">58,692</span> (229.27 KB)\n",
              "</pre>\n"
            ]
          },
          "metadata": {}
        },
        {
          "output_type": "stream",
          "name": "stdout",
          "text": [
            "Training Loss: 0.1055237203836441\n",
            "Validation Loss: 0.12080813944339752\n",
            "Training Mean Absolute Error: 0.21367038786411285\n",
            "Validation Mean Absolute Error: 0.22721853852272034\n"
          ]
        }
      ]
    },
    {
      "cell_type": "code",
      "source": [
        "# Plot\n",
        "plt.subplot(1, 2, 1)\n",
        "plt.plot(lstm_history.history['loss'], label='Training Loss')\n",
        "plt.plot(lstm_history.history['val_loss'], label='Validation Loss')\n",
        "plt.title('Loss During Training')\n",
        "plt.xlabel('Epochs')\n",
        "plt.ylabel('Loss')\n",
        "plt.legend()\n",
        "\n",
        "plt.subplot(1, 2, 2)\n",
        "plt.plot(lstm_history.history['mae'], label='Training MAE')\n",
        "plt.plot(lstm_history.history['val_mae'], label='Validation MAE')\n",
        "plt.title('Mean Absolute Error During Training')\n",
        "plt.xlabel('Epochs')\n",
        "plt.ylabel('MAE')\n",
        "plt.legend()\n",
        "\n",
        "plt.tight_layout()\n",
        "plt.show()"
      ],
      "metadata": {
        "id": "xh_AtK1NXT93",
        "outputId": "e71d9c36-2ddd-46f7-88f2-61e378ab1967",
        "colab": {
          "base_uri": "https://localhost:8080/",
          "height": 487
        }
      },
      "execution_count": 9,
      "outputs": [
        {
          "output_type": "display_data",
          "data": {
            "text/plain": [
              "<Figure size 640x480 with 2 Axes>"
            ],
            "image/png": "[encoded data removed]"
          },
          "metadata": {}
        }
      ]
    },
    {
      "cell_type": "code",
      "source": [
        "class NutritionRecommender:\n",
        "    def __init__(self, nutrition_data):\n",
        "        self.nutrition_data = nutrition_data\n",
        "\n",
        "    def recommend_nutrition(self, age, stunting_status, weight):\n",
        "        filtered_data = self.nutrition_data[\n",
        "            (self.nutrition_data['usia minimal(bulan)'] <= age) &\n",
        "            (self.nutrition_data['usia maksimal(bulan)'] >= age)\n",
        "        ]\n",
        "\n",
        "        if stunting_status == 'Stunting':\n",
        "            recommended = filtered_data[\n",
        "                (filtered_data['protein (g)'] > filtered_data['protein (g)'].median()) &\n",
        "                (filtered_data['kalori'] > filtered_data['kalori'].median())\n",
        "            ]\n",
        "        else:\n",
        "            recommended = filtered_data\n",
        "\n",
        "        recommended['adjusted_portion'] = recommended['kalori'] * (weight / 10)\n",
        "\n",
        "        return recommended.sort_values('adjusted_portion', ascending=False).head(5)\n",
        "\n",
        "recommender = NutritionRecommender(nutrition_data)\n",
        "recommendations = recommender.recommend_nutrition(age=24, stunting_status='Stunting', weight=10)\n"
      ],
      "metadata": {
        "id": "sjgzTXUmJw2u",
        "outputId": "8773f395-9acf-43ba-f0ca-33841dc1e092",
        "colab": {
          "base_uri": "https://localhost:8080/"
        }
      },
      "execution_count": 10,
      "outputs": [
        {
          "output_type": "stream",
          "name": "stderr",
          "text": [
            "<ipython-input-10-c6628a803681>:19: SettingWithCopyWarning: \n",
            "A value is trying to be set on a copy of a slice from a DataFrame.\n",
            "Try using .loc[row_indexer,col_indexer] = value instead\n",
            "\n",
            "See the caveats in the documentation: https://pandas.pydata.org/pandas-docs/stable/user_guide/indexing.html#returning-a-view-versus-a-copy\n",
            "  recommended['adjusted_portion'] = recommended['kalori'] * (weight / 10)\n"
          ]
        }
      ]
    },
    {
      "cell_type": "markdown",
      "source": [],
      "metadata": {
        "id": "23pnwdMJPLJH"
      }
    },
    {
      "cell_type": "code",
      "source": [
        "plt.scatter(recommendations['kalori'], recommendations['protein (g)'], color='blue', label='Recommended Foods')\n",
        "plt.title('Nutrition Recommendations: Calories vs Protein')\n",
        "plt.xlabel('Calories')\n",
        "plt.ylabel('Protein (g)')\n",
        "plt.grid(True)\n",
        "\n",
        "for i in range(len(recommendations)):\n",
        "    plt.text(recommendations['kalori'].iloc[i], recommendations['protein (g)'].iloc[i],\n",
        "             f\"{recommendations.index[i]}\", fontsize=9, ha='right')\n",
        "\n",
        "plt.legend()\n",
        "plt.show()"
      ],
      "metadata": {
        "id": "g_vX-mUOYgaH",
        "outputId": "5e0c5b9c-9f38-4f34-e413-bb209acf00b1",
        "colab": {
          "base_uri": "https://localhost:8080/",
          "height": 472
        }
      },
      "execution_count": 11,
      "outputs": [
        {
          "output_type": "display_data",
          "data": {
            "text/plain": [
              "<Figure size 640x480 with 1 Axes>"
            ],
            "image/png": "[encoded data removed]"
          },
          "metadata": {}
        }
      ]
    },
    {
      "cell_type": "code",
      "source": [
        "class NutritionRecommender:\n",
        "    def __init__(self, nutrition_data):\n",
        "        self.nutrition_data = nutrition_data\n",
        "\n",
        "    def recommend_nutrition(self, age, stunting_status, weight):\n",
        "        filtered_data = self.nutrition_data[\n",
        "            (self.nutrition_data['usia minimal(bulan)'] <= age) &\n",
        "            (self.nutrition_data['usia maksimal(bulan)'] >= age)\n",
        "        ]\n",
        "\n",
        "        if stunting_status == 'Stunting':\n",
        "            recommended = filtered_data[\n",
        "                (filtered_data['protein (g)'] > filtered_data['protein (g)'].median()) &\n",
        "                (filtered_data['kalori'] > filtered_data['kalori'].median())\n",
        "            ]\n",
        "        else:\n",
        "            recommended = filtered_data\n",
        "\n",
        "        recommended['adjusted_portion'] = recommended['kalori'] * (weight / 10)\n",
        "\n",
        "        top_recommendations = recommended.sort_values('adjusted_portion', ascending=False).head(5)\n",
        "\n",
        "        recommendations_text = \"Berikut adalah rekomendasi kebutuhan gizi berdasarkan umur dan berat badan Anda:\\n\"\n",
        "        recommendations_text += \"-\" * 80 + \"\\n\"\n",
        "\n",
        "        for index, row in top_recommendations.iterrows():\n",
        "            recommendations_text += (\n",
        "                f\"Rekomendasi :\"\n",
        "                f\"Untuk anak dengan usia {row['usia minimal(bulan)']} - {row['usia maksimal(bulan)']} bulan,\\n\"\n",
        "                f\"Disarankan makanan dengan {row['protein (g)']} gram protein dan {row['kalori']} kalori per porsi.\\n\"\n",
        "                f\"Karena berat badan anak anda {weight} kg, maka porsi makanan yang disesuaikan adalah {row['adjusted_portion']} kalori.\\n\\n\"\n",
        "            )\n",
        "\n",
        "        return recommendations_text\n",
        "\n",
        "age = int(input(\"Masukkan usia anak (dalam bulan): \"))\n",
        "stunting_status = input(\"Masukkan status stunting (Stunting / Tidak Stunting): \")\n",
        "weight = float(input(\"Masukkan berat badan anak (dalam kg): \"))\n",
        "\n",
        "recommender = NutritionRecommender(nutrition_data)\n",
        "recommendations_text = recommender.recommend_nutrition(age=age, stunting_status=stunting_status, weight=weight)\n",
        "\n",
        "print(recommendations_text)\n"
      ],
      "metadata": {
        "id": "ro7njDHuY2KX",
        "outputId": "9ff4722c-585b-4c50-ba2e-aef78c77c7c8",
        "colab": {
          "base_uri": "https://localhost:8080/"
        }
      },
      "execution_count": 17,
      "outputs": [
        {
          "output_type": "stream",
          "name": "stdout",
          "text": [
            "Masukkan usia anak (dalam bulan): 59\n",
            "Masukkan status stunting (Stunting / Tidak Stunting): Stunting\n",
            "Masukkan berat badan anak (dalam kg): 9\n",
            "Berikut adalah rekomendasi kebutuhan gizi berdasarkan umur dan berat badan Anda:\n",
            "--------------------------------------------------------------------------------\n",
            "Rekomendasi :Untuk anak dengan usia 18 - 60 bulan,\n",
            "Disarankan makanan dengan 12.0 gram protein dan 230 kalori per porsi.\n",
            "Karena berat badan anak anda 9.0 kg, maka porsi makanan yang disesuaikan adalah 207.0 kalori.\n",
            "\n",
            "Rekomendasi :Untuk anak dengan usia 18 - 60 bulan,\n",
            "Disarankan makanan dengan 9.0 gram protein dan 220 kalori per porsi.\n",
            "Karena berat badan anak anda 9.0 kg, maka porsi makanan yang disesuaikan adalah 198.0 kalori.\n",
            "\n",
            "Rekomendasi :Untuk anak dengan usia 18 - 60 bulan,\n",
            "Disarankan makanan dengan 8.0 gram protein dan 200 kalori per porsi.\n",
            "Karena berat badan anak anda 9.0 kg, maka porsi makanan yang disesuaikan adalah 180.0 kalori.\n",
            "\n",
            "Rekomendasi :Untuk anak dengan usia 18 - 60 bulan,\n",
            "Disarankan makanan dengan 6.0 gram protein dan 170 kalori per porsi.\n",
            "Karena berat badan anak anda 9.0 kg, maka porsi makanan yang disesuaikan adalah 153.0 kalori.\n",
            "\n",
            "Rekomendasi :Untuk anak dengan usia 18 - 60 bulan,\n",
            "Disarankan makanan dengan 5.0 gram protein dan 160 kalori per porsi.\n",
            "Karena berat badan anak anda 9.0 kg, maka porsi makanan yang disesuaikan adalah 144.0 kalori.\n",
            "\n",
            "\n"
          ]
        },
        {
          "output_type": "stream",
          "name": "stderr",
          "text": [
            "<ipython-input-17-1fcbf546b6d3>:19: SettingWithCopyWarning: \n",
            "A value is trying to be set on a copy of a slice from a DataFrame.\n",
            "Try using .loc[row_indexer,col_indexer] = value instead\n",
            "\n",
            "See the caveats in the documentation: https://pandas.pydata.org/pandas-docs/stable/user_guide/indexing.html#returning-a-view-versus-a-copy\n",
            "  recommended['adjusted_portion'] = recommended['kalori'] * (weight / 10)\n"
          ]
        }
      ]
    },
    {
      "cell_type": "code",
      "source": [],
      "metadata": {
        "id": "Qzp55ZEofO81"
      },
      "execution_count": 12,
      "outputs": []
    }
  ]
}